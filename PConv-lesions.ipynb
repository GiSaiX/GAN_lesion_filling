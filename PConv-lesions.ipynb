{
 "cells": [
  {
   "cell_type": "code",
   "execution_count": 62,
   "metadata": {},
   "outputs": [],
   "source": [
    "import tensorflow as tf\n",
    "config = tf.ConfigProto()\n",
    "config.gpu_options.allow_growth = True\n",
    "session = tf.Session(config=config)"
   ]
  },
  {
   "cell_type": "code",
   "execution_count": 63,
   "metadata": {},
   "outputs": [
    {
     "name": "stdout",
     "output_type": "stream",
     "text": [
      "The autoreload extension is already loaded. To reload it, use:\n",
      "  %reload_ext autoreload\n"
     ]
    }
   ],
   "source": [
    "from sklearn.metrics import mean_squared_error\n",
    "from skimage.measure import compare_ssim\n",
    "\n",
    "import gc\n",
    "import datetime\n",
    "\n",
    "import pandas as pd\n",
    "import numpy as np\n",
    "\n",
    "from copy import deepcopy\n",
    "#from tqdm import tqdm\n",
    "\n",
    "from keras.preprocessing.image import ImageDataGenerator\n",
    "from keras.callbacks import TensorBoard\n",
    "from keras import backend as K\n",
    "\n",
    "import cv2\n",
    "import matplotlib\n",
    "import matplotlib.pyplot as plt\n",
    "from matplotlib.ticker import NullFormatter\n",
    "from IPython.display import clear_output\n",
    "\n",
    "from libs.pconv_model import PConvUnet\n",
    "from libs.util import random_mask\n",
    "\n",
    "%load_ext autoreload\n",
    "%autoreload 2\n",
    "plt.ioff()\n",
    "import scipy.misc\n",
    "\n",
    "BATCH_SIZE = 4"
   ]
  },
  {
   "cell_type": "code",
   "execution_count": 3,
   "metadata": {},
   "outputs": [],
   "source": [
    "TRAIN_DIR = 'data/TRAIN_DIR/'\n",
    "TEST_DIR = 'data/TEST_DIR/'\n",
    "VAL_DIR = 'data/VAL_DIR/'"
   ]
  },
  {
   "cell_type": "code",
   "execution_count": 4,
   "metadata": {},
   "outputs": [],
   "source": [
    "class DataGenerator(ImageDataGenerator):\n",
    "    def flow_from_directory(self, directory, *args, **kwargs):\n",
    "        generator = super().flow_from_directory(directory,class_mode=None, *args, **kwargs)\n",
    "        #while True:\n",
    "        for ori in generator:    \n",
    "            #print(\"halo\")\n",
    "            # Get augmentend image samples\n",
    "            #ori = next(generator)\n",
    "\n",
    "            # Get masks for each image sample\n",
    "            mask = np.stack([random_mask(ori.shape[1], ori.shape[2]) for _ in range(ori.shape[0])], axis=0)\n",
    "\n",
    "            # Apply masks to all image sample\n",
    "            masked = deepcopy(ori)\n",
    "            masked[mask==0] = 1\n",
    "\n",
    "            # Yield ([ori, masl],  ori) training batches\n",
    "            # print(masked.shape, ori.shape)\n",
    "            gc.collect()\n",
    "            yield [masked, mask], ori\n",
    "            "
   ]
  },
  {
   "cell_type": "code",
   "execution_count": 5,
   "metadata": {},
   "outputs": [],
   "source": [
    "# Create training generator\n",
    "train_datagen = DataGenerator(  \n",
    "    rotation_range=20,\n",
    "    width_shift_range=0.2,\n",
    "    height_shift_range=0.2,\n",
    "    rescale=1./255,\n",
    "    horizontal_flip=True\n",
    ")"
   ]
  },
  {
   "cell_type": "code",
   "execution_count": 6,
   "metadata": {},
   "outputs": [],
   "source": [
    "train_generator = train_datagen.flow_from_directory(\n",
    "    TRAIN_DIR, target_size=(512, 512), batch_size=BATCH_SIZE\n",
    ")"
   ]
  },
  {
   "cell_type": "code",
   "execution_count": 6,
   "metadata": {},
   "outputs": [],
   "source": [
    "# Create validation generator\n",
    "val_datagen = DataGenerator(rescale=1./255)\n",
    "val_generator = val_datagen.flow_from_directory(\n",
    "    VAL_DIR, target_size=(512, 512), batch_size=BATCH_SIZE, seed=1\n",
    ")"
   ]
  },
  {
   "cell_type": "code",
   "execution_count": 7,
   "metadata": {},
   "outputs": [
    {
     "name": "stdout",
     "output_type": "stream",
     "text": [
      "Found 200 images belonging to 2 classes.\n"
     ]
    }
   ],
   "source": [
    "# Create testing generator\n",
    "test_datagen = DataGenerator(rescale=1./255)\n",
    "test_generator = test_datagen.flow_from_directory(\n",
    "    TEST_DIR, target_size=(512, 512),batch_size=BATCH_SIZE, seed=1\n",
    ")# Pick out an example\n",
    "test_data = next(test_generator)\n",
    "(masked, mask), ori = test_data\n",
    "from collections import defaultdict\n",
    "scores = defaultdict(list)\n",
    "def evaluate_real_losses(ori,masked,mask):\n",
    "    mse_scores,ssim_scores = zip(*[masked_area_score(o,m,mm) for o,m,mm in zip(ori,masked,mask)])\n",
    "    mse_score = np.mean(mse_scores)\n",
    "    ssim_score = np.mean(ssim_scores)\n",
    "    scores['masked_area'].append({'MSE':mse_score,'SSIM':ssim_score})\n",
    "    mse_scores,ssim_scores = zip(*[outside_area_score(o,m,mm) for o,m,mm in zip(ori,masked,mask)])\n",
    "    mse_score = np.mean(mse_scores)\n",
    "    ssim_score = np.mean(ssim_scores)\n",
    "    scores['outside_area'].append({'MSE':mse_score,'SSIM':ssim_score})\n",
    "    mse_scores,ssim_scores = zip(*[whole_image_score(o,m,mm) for o,m,mm in zip(ori,masked,mask)])\n",
    "    mse_score = np.mean(mse_scores)\n",
    "    ssim_score = np.mean(ssim_scores)\n",
    "    scores['whole_image'].append({'MSE':mse_score,'SSIM':ssim_score})"
   ]
  },
  {
   "cell_type": "code",
   "execution_count": null,
   "metadata": {},
   "outputs": [],
   "source": []
  },
  {
   "cell_type": "code",
   "execution_count": 8,
   "metadata": {},
   "outputs": [],
   "source": [
    "def masked_area_score(img_true,img_predict,mask):\n",
    "    mse =mean_squared_error(img_true[mask==0], img_predict[mask==0])\n",
    "    ssim =compare_ssim(img_true[mask==0], img_predict[mask==0]) \n",
    "    return mse, ssim\n",
    "def whole_image_score(img_true,img_predict,mask):\n",
    "    mse =mean_squared_error(img_true[mask!=5], img_predict[mask!=5])\n",
    "    ssim =compare_ssim(img_true[mask!=5], img_predict[mask!=5]) \n",
    "    return mse, ssim\n",
    "def outside_area_score(img_true,img_predict,mask):\n",
    "    mse =mean_squared_error(img_true[mask==1], img_predict[mask==1])\n",
    "    ssim =compare_ssim(img_true[mask==1], img_predict[mask==1]) \n",
    "    return mse, ssim"
   ]
  },
  {
   "cell_type": "code",
   "execution_count": 10,
   "metadata": {},
   "outputs": [],
   "source": [
    "def plot_callback(model):\n",
    "    \"\"\"Called at the end of each epoch, displaying our previous test images,\n",
    "    as well as their masked predictions and saving them to disk\"\"\"\n",
    "    \n",
    "    # Get samples & Display them        \n",
    "    pred_img = model.predict([masked, mask])\n",
    "    pred_time = datetime.datetime.now().strftime('%Y-%m-%d-%H-%M-%S')\n",
    "    evaluate_real_losses(ori,pred_img,mask)\n",
    "    # Clear current output and display test images\n",
    "    for i in range(len(ori)):\n",
    "        _, axes = plt.subplots(1, 3, figsize=(20, 5))\n",
    "        axes[0].imshow(masked[i,:,:,:])\n",
    "        axes[1].imshow(pred_img[i,:,:,:] * 1.)\n",
    "        axes[2].imshow(ori[i,:,:,:])\n",
    "        axes[0].set_title('Masked Image')\n",
    "        axes[1].set_title('Predicted Image')\n",
    "        axes[2].set_title('Original Image')\n",
    "                \n",
    "        plt.savefig(r'logs/img_{}_{}.png'.format(i, pred_time))\n",
    "        plt.close()"
   ]
  },
  {
   "cell_type": "code",
   "execution_count": 11,
   "metadata": {},
   "outputs": [],
   "source": [
    "#####################################################\n",
    "####### TRAIN PHASE 1   #############################"
   ]
  },
  {
   "cell_type": "code",
   "execution_count": 12,
   "metadata": {},
   "outputs": [],
   "source": [
    "# Instantiate the model\n",
    "model = PConvUnet(weight_filepath='logs/')\n",
    "# model.load('logs/700_weights_2019-01-23-15-20-38.h5')"
   ]
  },
  {
   "cell_type": "code",
   "execution_count": 13,
   "metadata": {
    "scrolled": true
   },
   "outputs": [
    {
     "name": "stdout",
     "output_type": "stream",
     "text": [
      "Epoch 1/1\n",
      "Found 287 images belonging to 2 classes.\n",
      "Found 2000 images belonging to 2 classes.\n",
      "16/16 [==============================] - 16s 1s/step - loss: 1945519.2031 - val_loss: 1869487.1125\n",
      "Epoch 2/2\n",
      "16/16 [==============================] - 12s 723ms/step - loss: 1655815.1406 - val_loss: 1759090.0250\n",
      "Epoch 3/3\n",
      "16/16 [==============================] - 12s 734ms/step - loss: 1684645.8203 - val_loss: 1655244.6750\n",
      "Epoch 4/4\n",
      "16/16 [==============================] - 12s 762ms/step - loss: 1630234.2656 - val_loss: 1689729.6923\n",
      "Epoch 5/5\n",
      "16/16 [==============================] - 12s 731ms/step - loss: 1599635.6797 - val_loss: 1491111.8250\n",
      "Epoch 6/6\n",
      "16/16 [==============================] - 12s 753ms/step - loss: 1553713.5625 - val_loss: 1517335.5500\n",
      "Epoch 7/7\n",
      "16/16 [==============================] - 12s 754ms/step - loss: 1471107.5234 - val_loss: 1481873.2750\n",
      "Epoch 8/8\n",
      "16/16 [==============================] - 12s 771ms/step - loss: 1366361.4023 - val_loss: 1357221.4750\n",
      "Epoch 9/9\n",
      "16/16 [==============================] - 13s 786ms/step - loss: 1336704.0938 - val_loss: 1198168.9250\n",
      "Epoch 10/10\n",
      "16/16 [==============================] - 13s 788ms/step - loss: 1268347.6406 - val_loss: 1233341.9375\n",
      "Epoch 11/11\n",
      "16/16 [==============================] - 13s 790ms/step - loss: 1194539.8281 - val_loss: 1234006.7340\n",
      "Epoch 12/12\n",
      "16/16 [==============================] - 13s 806ms/step - loss: 1122502.1641 - val_loss: 1079023.4500\n",
      "Epoch 13/13\n",
      "16/16 [==============================] - 13s 816ms/step - loss: 1081724.4297 - val_loss: 1100691.5500\n",
      "Epoch 14/14\n",
      "16/16 [==============================] - 13s 798ms/step - loss: 963595.2891 - val_loss: 994120.7250\n",
      "Epoch 15/15\n",
      "16/16 [==============================] - 13s 825ms/step - loss: 983966.9375 - val_loss: 1063123.4812\n",
      "Epoch 16/16\n",
      "16/16 [==============================] - 13s 823ms/step - loss: 929912.5078 - val_loss: 990444.3125\n",
      "Epoch 17/17\n",
      "16/16 [==============================] - 13s 826ms/step - loss: 808790.5469 - val_loss: 864629.1438\n",
      "Epoch 18/18\n",
      "16/16 [==============================] - 13s 825ms/step - loss: 782157.4336 - val_loss: 852172.7772\n",
      "Epoch 19/19\n",
      "16/16 [==============================] - 13s 837ms/step - loss: 711809.3242 - val_loss: 774187.0250\n",
      "Epoch 20/20\n",
      "16/16 [==============================] - 14s 848ms/step - loss: 691764.5312 - val_loss: 657046.2188\n",
      "Epoch 21/21\n",
      "16/16 [==============================] - 14s 867ms/step - loss: 690661.8340 - val_loss: 775518.3750\n",
      "Epoch 22/22\n",
      "16/16 [==============================] - 14s 850ms/step - loss: 619039.2363 - val_loss: 727003.0875\n",
      "Epoch 23/23\n",
      "16/16 [==============================] - 14s 879ms/step - loss: 627376.1270 - val_loss: 766802.7125\n",
      "Epoch 24/24\n",
      "16/16 [==============================] - 14s 901ms/step - loss: 588936.6914 - val_loss: 628956.7625\n",
      "Epoch 25/25\n",
      "16/16 [==============================] - 15s 912ms/step - loss: 586363.3320 - val_loss: 652268.5563\n",
      "Epoch 26/26\n",
      "16/16 [==============================] - 14s 898ms/step - loss: 563620.3945 - val_loss: 564263.8625\n",
      "Epoch 27/27\n",
      "16/16 [==============================] - 14s 906ms/step - loss: 563034.4961 - val_loss: 634963.6188\n",
      "Epoch 28/28\n",
      "16/16 [==============================] - 14s 900ms/step - loss: 527584.5801 - val_loss: 566907.1859\n",
      "Epoch 29/29\n",
      "16/16 [==============================] - 14s 896ms/step - loss: 550865.2852 - val_loss: 555713.3000\n",
      "Epoch 30/30\n",
      "16/16 [==============================] - 15s 927ms/step - loss: 507083.8828 - val_loss: 584247.2469\n",
      "Epoch 31/31\n",
      "16/16 [==============================] - 15s 909ms/step - loss: 498769.9023 - val_loss: 504200.2000\n",
      "Epoch 32/32\n",
      "16/16 [==============================] - 15s 921ms/step - loss: 461988.7148 - val_loss: 490884.2719\n",
      "Epoch 33/33\n",
      "16/16 [==============================] - 15s 919ms/step - loss: 444825.6426 - val_loss: 498559.5969\n",
      "Epoch 34/34\n",
      "16/16 [==============================] - 15s 907ms/step - loss: 412395.2129 - val_loss: 475731.9250\n",
      "Epoch 35/35\n",
      "16/16 [==============================] - 15s 943ms/step - loss: 418541.0020 - val_loss: 524727.5577\n",
      "Epoch 36/36\n",
      "16/16 [==============================] - 15s 947ms/step - loss: 446835.2988 - val_loss: 495115.4156\n",
      "Epoch 37/37\n",
      "16/16 [==============================] - 15s 953ms/step - loss: 417708.0898 - val_loss: 448666.6594\n",
      "Epoch 38/38\n",
      "16/16 [==============================] - 15s 966ms/step - loss: 438816.5371 - val_loss: 478233.1750\n",
      "Epoch 39/39\n",
      "16/16 [==============================] - 15s 969ms/step - loss: 411577.6348 - val_loss: 433864.9156\n",
      "Epoch 40/40\n",
      "16/16 [==============================] - 16s 978ms/step - loss: 413836.9844 - val_loss: 390752.2812\n",
      "Epoch 41/41\n",
      "16/16 [==============================] - 16s 991ms/step - loss: 403479.9980 - val_loss: 384421.0406\n",
      "Epoch 42/42\n",
      "16/16 [==============================] - 16s 1s/step - loss: 384285.6777 - val_loss: 387310.6923\n",
      "Epoch 43/43\n",
      "16/16 [==============================] - 16s 1s/step - loss: 403302.1875 - val_loss: 474526.5500\n",
      "Epoch 44/44\n",
      "16/16 [==============================] - 16s 1s/step - loss: 408463.9219 - val_loss: 426204.5812\n",
      "Epoch 45/45\n",
      "16/16 [==============================] - 16s 996ms/step - loss: 395635.4551 - val_loss: 428104.3563\n",
      "Epoch 46/46\n",
      "16/16 [==============================] - 16s 1s/step - loss: 367626.1953 - val_loss: 484550.8531\n",
      "Epoch 47/47\n",
      "16/16 [==============================] - 16s 1s/step - loss: 374542.1328 - val_loss: 465207.7094\n",
      "Epoch 48/48\n",
      "16/16 [==============================] - 16s 1s/step - loss: 364983.1270 - val_loss: 419382.2781\n",
      "Epoch 49/49\n",
      "16/16 [==============================] - 16s 1s/step - loss: 357958.2383 - val_loss: 373947.4250\n",
      "Epoch 50/50\n",
      "16/16 [==============================] - 16s 1s/step - loss: 358269.9766 - val_loss: 368420.3594\n",
      "Epoch 51/51\n",
      "16/16 [==============================] - 16s 1s/step - loss: 373126.7637 - val_loss: 372125.1937\n",
      "Epoch 52/52\n",
      "16/16 [==============================] - 16s 1s/step - loss: 350425.4492 - val_loss: 394482.5096\n",
      "Epoch 53/53\n",
      "16/16 [==============================] - 17s 1s/step - loss: 344579.4531 - val_loss: 375485.8500\n",
      "Epoch 54/54\n",
      "16/16 [==============================] - 16s 1s/step - loss: 345492.7285 - val_loss: 388198.2156\n",
      "Epoch 55/55\n",
      "16/16 [==============================] - 16s 1s/step - loss: 343405.9141 - val_loss: 371926.8719\n",
      "Epoch 56/56\n",
      "16/16 [==============================] - 16s 1s/step - loss: 319924.9277 - val_loss: 362082.9125\n",
      "Epoch 57/57\n",
      "16/16 [==============================] - 16s 1s/step - loss: 331036.4922 - val_loss: 372186.3750\n",
      "Epoch 58/58\n",
      "16/16 [==============================] - 16s 995ms/step - loss: 320271.2168 - val_loss: 345280.1000\n",
      "Epoch 59/59\n",
      "16/16 [==============================] - 16s 1s/step - loss: 343714.7676 - val_loss: 368384.8526\n",
      "Epoch 60/60\n",
      "16/16 [==============================] - 16s 1s/step - loss: 337699.4199 - val_loss: 377625.8563\n",
      "Epoch 61/61\n",
      "16/16 [==============================] - 17s 1s/step - loss: 307656.1914 - val_loss: 354651.3125\n",
      "Epoch 62/62\n",
      "16/16 [==============================] - 16s 1s/step - loss: 317538.2764 - val_loss: 339946.6000\n",
      "Epoch 63/63\n",
      "16/16 [==============================] - 17s 1s/step - loss: 327436.1592 - val_loss: 366167.3500\n",
      "Epoch 64/64\n",
      "16/16 [==============================] - 17s 1s/step - loss: 313106.7549 - val_loss: 340044.2062\n",
      "Epoch 65/65\n",
      "16/16 [==============================] - 17s 1s/step - loss: 327192.9492 - val_loss: 350815.5406\n",
      "Epoch 66/66\n",
      "16/16 [==============================] - 17s 1s/step - loss: 311225.5176 - val_loss: 347054.0353\n",
      "Epoch 67/67\n",
      "16/16 [==============================] - 17s 1s/step - loss: 298017.8828 - val_loss: 312451.1719\n",
      "Epoch 68/68\n",
      "16/16 [==============================] - 18s 1s/step - loss: 307746.9746 - val_loss: 350718.1969\n",
      "Epoch 69/69\n",
      "16/16 [==============================] - 17s 1s/step - loss: 318551.6680 - val_loss: 341394.7188\n",
      "Epoch 70/70\n",
      "16/16 [==============================] - 18s 1s/step - loss: 315464.2852 - val_loss: 369916.8531\n",
      "Epoch 71/71\n",
      "16/16 [==============================] - 18s 1s/step - loss: 326229.9385 - val_loss: 328810.6844\n",
      "Epoch 72/72\n",
      "16/16 [==============================] - 18s 1s/step - loss: 286667.9590 - val_loss: 370291.9250\n",
      "Epoch 73/73\n",
      "16/16 [==============================] - 18s 1s/step - loss: 304798.6572 - val_loss: 325824.2556\n",
      "Epoch 74/74\n",
      "16/16 [==============================] - 18s 1s/step - loss: 307280.1045 - val_loss: 315848.8547\n",
      "Epoch 75/75\n",
      "16/16 [==============================] - 19s 1s/step - loss: 306317.9854 - val_loss: 348378.2219\n",
      "Epoch 76/76\n",
      "16/16 [==============================] - 19s 1s/step - loss: 287636.2988 - val_loss: 324151.9079\n",
      "Epoch 77/77\n",
      "16/16 [==============================] - 20s 1s/step - loss: 299934.0303 - val_loss: 339221.6437\n",
      "Epoch 78/78\n",
      "16/16 [==============================] - 19s 1s/step - loss: 251095.2861 - val_loss: 300871.0703\n",
      "Epoch 79/79\n",
      "16/16 [==============================] - 19s 1s/step - loss: 303410.2529 - val_loss: 319627.7375\n",
      "Epoch 80/80\n",
      "16/16 [==============================] - 20s 1s/step - loss: 305401.3027 - val_loss: 329536.4891\n",
      "Epoch 81/81\n",
      "16/16 [==============================] - 20s 1s/step - loss: 281701.1992 - val_loss: 354223.6437\n",
      "Epoch 82/82\n",
      "16/16 [==============================] - 20s 1s/step - loss: 282812.4785 - val_loss: 318395.5859\n",
      "Epoch 83/83\n",
      "16/16 [==============================] - 20s 1s/step - loss: 285091.8916 - val_loss: 313870.2292\n",
      "Epoch 84/84\n",
      "16/16 [==============================] - 20s 1s/step - loss: 285482.9297 - val_loss: 315377.3750\n",
      "Epoch 85/85\n",
      "16/16 [==============================] - 21s 1s/step - loss: 286926.5801 - val_loss: 334411.4688\n",
      "Epoch 86/86\n",
      "16/16 [==============================] - 21s 1s/step - loss: 295991.4258 - val_loss: 367859.0250\n",
      "Epoch 87/87\n",
      "16/16 [==============================] - 21s 1s/step - loss: 285030.9268 - val_loss: 341074.0187\n",
      "Epoch 88/88\n",
      "16/16 [==============================] - 21s 1s/step - loss: 296894.6914 - val_loss: 440457.7938\n",
      "Epoch 89/89\n",
      "16/16 [==============================] - 21s 1s/step - loss: 304047.7891 - val_loss: 343465.3422\n",
      "Epoch 90/90\n",
      "16/16 [==============================] - 21s 1s/step - loss: 275325.9316 - val_loss: 336423.1346\n",
      "Epoch 91/91\n",
      "16/16 [==============================] - 21s 1s/step - loss: 310870.2451 - val_loss: 367644.5687\n",
      "Epoch 92/92\n",
      "16/16 [==============================] - 21s 1s/step - loss: 270662.6133 - val_loss: 316078.1000\n",
      "Epoch 93/93\n",
      "16/16 [==============================] - 22s 1s/step - loss: 273475.4746 - val_loss: 329447.1719\n",
      "Epoch 94/94\n",
      "16/16 [==============================] - 22s 1s/step - loss: 315739.4561 - val_loss: 326803.4594\n",
      "Epoch 95/95\n",
      "16/16 [==============================] - 22s 1s/step - loss: 340124.0762 - val_loss: 335493.3109\n",
      "Epoch 96/96\n",
      "16/16 [==============================] - 22s 1s/step - loss: 297544.0645 - val_loss: 329515.8156\n",
      "Epoch 97/97\n",
      "16/16 [==============================] - 22s 1s/step - loss: 285778.5342 - val_loss: 308982.6562\n",
      "Epoch 98/98\n",
      "16/16 [==============================] - 22s 1s/step - loss: 275490.7061 - val_loss: 314861.8297\n",
      "Epoch 99/99\n",
      "16/16 [==============================] - 22s 1s/step - loss: 285241.5195 - val_loss: 302654.1125\n",
      "Epoch 100/100\n",
      "16/16 [==============================] - 23s 1s/step - loss: 253520.5156 - val_loss: 329923.3053\n"
     ]
    }
   ],
   "source": [
    "# Run training for certain amount of epochs\n",
    "model.fit(\n",
    "    train_generator, \n",
    "    steps_per_epoch=16,\n",
    "    validation_data=val_generator,\n",
    "    validation_steps=10,\n",
    "    epochs=100,        \n",
    "    plot_callback=plot_callback,\n",
    "    callbacks=[\n",
    "        TensorBoard(log_dir='../logs/initial_training', write_graph=False),\n",
    "        #Lol()\n",
    "    ]\n",
    ")"
   ]
  },
  {
   "cell_type": "code",
   "execution_count": 24,
   "metadata": {},
   "outputs": [
    {
     "data": {
      "text/plain": [
       "defaultdict(list,\n",
       "            {'masked_area': [{'mse': 0.012181739, 'ssim': 0.9188576307635311},\n",
       "              {'mse': 0.007105197, 'ssim': 0.9214896802157732},\n",
       "              {'mse': 0.009625433, 'ssim': 0.9314030958685922},\n",
       "              {'mse': 0.0054246215, 'ssim': 0.9244680919230828},\n",
       "              {'mse': 0.011315696, 'ssim': 0.9281564644334547},\n",
       "              {'mse': 0.005656409, 'ssim': 0.9142550035193215},\n",
       "              {'mse': 0.00828988, 'ssim': 0.9183088720108908},\n",
       "              {'mse': 0.0085805915, 'ssim': 0.9123001197538553}],\n",
       "             'outside_area': [{'mse': 0.0011826335,\n",
       "               'ssim': 0.9058703783718298},\n",
       "              {'mse': 0.00058412325, 'ssim': 0.8690551858126048},\n",
       "              {'mse': 0.000575842, 'ssim': 0.9219075819987452},\n",
       "              {'mse': 0.00068977685, 'ssim': 0.8847522218898314},\n",
       "              {'mse': 0.0022063805, 'ssim': 0.9199247503545617},\n",
       "              {'mse': 0.0009436506, 'ssim': 0.8000534217297808},\n",
       "              {'mse': 0.0007097189, 'ssim': 0.8913013738702331},\n",
       "              {'mse': 0.000827574, 'ssim': 0.8731020193065235}],\n",
       "             'whole_image': [{'mse': 0.0043661953, 'ssim': 0.9084471726010219},\n",
       "              {'mse': 0.0025048254, 'ssim': 0.8832700291518806},\n",
       "              {'mse': 0.003285826, 'ssim': 0.9242224047353954},\n",
       "              {'mse': 0.001975252, 'ssim': 0.8917709503044899},\n",
       "              {'mse': 0.0048744506, 'ssim': 0.9205813508793216},\n",
       "              {'mse': 0.0021428866, 'ssim': 0.8268247130895819},\n",
       "              {'mse': 0.0029387157, 'ssim': 0.8984285341994389},\n",
       "              {'mse': 0.0028281235, 'ssim': 0.8816944744884097}]})"
      ]
     },
     "execution_count": 24,
     "metadata": {},
     "output_type": "execute_result"
    }
   ],
   "source": [
    "scores"
   ]
  },
  {
   "cell_type": "code",
   "execution_count": 14,
   "metadata": {},
   "outputs": [
    {
     "data": {
      "image/png": "[encoded data removed]",
      "text/plain": [
       "<Figure size 432x288 with 1 Axes>"
      ]
     },
     "metadata": {
      "needs_background": "light"
     },
     "output_type": "display_data"
    },
    {
     "data": {
      "image/png": "[encoded data removed]",
      "text/plain": [
       "<Figure size 432x288 with 1 Axes>"
      ]
     },
     "metadata": {
      "needs_background": "light"
     },
     "output_type": "display_data"
    },
    {
     "data": {
      "image/png": "[encoded data removed]",
      "text/plain": [
       "<Figure size 432x288 with 1 Axes>"
      ]
     },
     "metadata": {
      "needs_background": "light"
     },
     "output_type": "display_data"
    }
   ],
   "source": [
    "for key,value in scores.items():\n",
    "    ax=pd.DataFrame(value).plot(title=key)\n",
    "    ax.set_xlabel('Number of epochs')\n",
    "    ax.set_ylabel('Evaluation score')"
   ]
  },
  {
   "cell_type": "code",
   "execution_count": 15,
   "metadata": {},
   "outputs": [],
   "source": [
    "#plot_callback(model)"
   ]
  },
  {
   "cell_type": "code",
   "execution_count": 16,
   "metadata": {},
   "outputs": [],
   "source": [
    "#cores"
   ]
  },
  {
   "cell_type": "code",
   "execution_count": null,
   "metadata": {},
   "outputs": [],
   "source": [
    "################  predict, evaluate ##########################\n",
    "#############################################################"
   ]
  },
  {
   "cell_type": "code",
   "execution_count": 17,
   "metadata": {},
   "outputs": [],
   "source": [
    "model = PConvUnet(weight_filepath='logs/')\n",
    "model.load('logs/100_weights_2019-01-27-16-40-47.h5')"
   ]
  },
  {
   "cell_type": "code",
   "execution_count": 28,
   "metadata": {},
   "outputs": [],
   "source": [
    "lesion_list = np.load('data/lesion_slice100_512x512_3.npy')"
   ]
  },
  {
   "cell_type": "code",
   "execution_count": 86,
   "metadata": {},
   "outputs": [
    {
     "name": "stderr",
     "output_type": "stream",
     "text": [
      "Clipping input data to the valid range for imshow with RGB data ([0..1] for floats or [0..255] for integers).\n"
     ]
    },
    {
     "data": {
      "text/plain": [
       "<matplotlib.image.AxesImage at 0x7f120c739518>"
      ]
     },
     "execution_count": 86,
     "metadata": {},
     "output_type": "execute_result"
    },
    {
     "data": {
      "image/png": "[encoded data removed]",
      "text/plain": [
       "<Figure size 432x288 with 1 Axes>"
      ]
     },
     "metadata": {
      "needs_background": "light"
     },
     "output_type": "display_data"
    }
   ],
   "source": [
    "plt.imshow(lesion_list[0]*255)"
   ]
  },
  {
   "cell_type": "code",
   "execution_count": 85,
   "metadata": {},
   "outputs": [
    {
     "data": {
      "text/plain": [
       "<matplotlib.image.AxesImage at 0x7f120c7e2f60>"
      ]
     },
     "execution_count": 85,
     "metadata": {},
     "output_type": "execute_result"
    },
    {
     "data": {
      "image/png": "[encoded data removed]",
      "text/plain": [
       "<Figure size 432x288 with 1 Axes>"
      ]
     },
     "metadata": {
      "needs_background": "light"
     },
     "output_type": "display_data"
    }
   ],
   "source": [
    "a= random_mask(512,512,channels=3)\n",
    "plt.imshow(a*255)"
   ]
  },
  {
   "cell_type": "code",
   "execution_count": 75,
   "metadata": {},
   "outputs": [
    {
     "data": {
      "text/plain": [
       "1"
      ]
     },
     "execution_count": 75,
     "metadata": {},
     "output_type": "execute_result"
    }
   ],
   "source": [
    "np.max(a)"
   ]
  },
  {
   "cell_type": "code",
   "execution_count": 66,
   "metadata": {},
   "outputs": [
    {
     "data": {
      "text/plain": [
       "(512, 512, 3)"
      ]
     },
     "execution_count": 66,
     "metadata": {},
     "output_type": "execute_result"
    }
   ],
   "source": [
    "np.shape(random_mask(512,512))"
   ]
  },
  {
   "cell_type": "code",
   "execution_count": 39,
   "metadata": {},
   "outputs": [],
   "source": [
    "class DataGenerator(ImageDataGenerator):\n",
    "    def flow_from_directory(self, directory, *args, **kwargs):\n",
    "        generator = super().flow_from_directory(directory,class_mode=None, *args, **kwargs)\n",
    "        #while True:\n",
    "        for ori in generator:    \n",
    "            #print(\"halo\")\n",
    "            # Get augmentend image samples\n",
    "            #ori = next(generator)\n",
    "\n",
    "            # Get masks for each image sample\n",
    "            #mask = np.stack([random_mask(ori.shape[1], ori.shape[2]) for _ in range(ori.shape[0])], axis=0)\n",
    "            mask = np.stack([lesion_list[i] for i in range(ori.shape[0])], axis = 0)\n",
    "\n",
    "            # Apply masks to all image sample\n",
    "            masked = deepcopy(ori)\n",
    "            masked[mask==0] = 1\n",
    "\n",
    "            # Yield ([ori, masl],  ori) training batches\n",
    "            # print(masked.shape, ori.shape)\n",
    "            gc.collect()\n",
    "            yield [masked, mask], ori\n",
    "            "
   ]
  },
  {
   "cell_type": "code",
   "execution_count": 40,
   "metadata": {},
   "outputs": [],
   "source": [
    "def plot_callback(model):\n",
    "    \"\"\"Called at the end of each epoch, displaying our previous test images,\n",
    "    as well as their masked predictions and saving them to disk\"\"\"\n",
    "    \n",
    "    # Get samples & Display them        \n",
    "    pred_img = model.predict([masked, mask])\n",
    "    pred_time = datetime.datetime.now().strftime('%Y-%m-%d-%H-%M-%S')\n",
    "    evaluate_real_losses(ori,pred_img,mask)\n",
    "    # Clear current output and display test images\n",
    "    for i in range(len(ori)):\n",
    "        _, axes = plt.subplots(1, 3, figsize=(20, 5))\n",
    "        axes[0].imshow(masked[i,:,:,:])\n",
    "        axes[1].imshow(pred_img[i,:,:,:] * 1.)\n",
    "        axes[2].imshow(ori[i,:,:,:])\n",
    "        axes[0].set_title('Masked Image')\n",
    "        axes[1].set_title('Predicted Image')\n",
    "        axes[2].set_title('Original Image')\n",
    "                \n",
    "        plt.savefig(r'img_results/img_{}_{}.png'.format(i, pred_time))\n",
    "        plt.close()"
   ]
  },
  {
   "cell_type": "code",
   "execution_count": 41,
   "metadata": {},
   "outputs": [],
   "source": [
    "scores = defaultdict(list)"
   ]
  },
  {
   "cell_type": "code",
   "execution_count": 42,
   "metadata": {},
   "outputs": [
    {
     "name": "stdout",
     "output_type": "stream",
     "text": [
      "Found 200 images belonging to 2 classes.\n"
     ]
    }
   ],
   "source": [
    "# Create testing generator\n",
    "test_datagen = DataGenerator(rescale=1./255)\n",
    "test_generator = test_datagen.flow_from_directory(\n",
    "    TEST_DIR, target_size=(512, 512),batch_size=BATCH_SIZE, seed=1)# Pick out an example\n",
    "mask_list = []\n",
    "masked_list=[]\n",
    "ori_list = []\n",
    "for _ in range(8):\n",
    "    (masked, mask), ori = next(test_generator)\n",
    "    plot_callback(model)"
   ]
  },
  {
   "cell_type": "code",
   "execution_count": 43,
   "metadata": {},
   "outputs": [
    {
     "data": {
      "text/plain": [
       "defaultdict(list,\n",
       "            {'masked_area': [{'MSE': 0.4490772, 'SSIM': 0.17127969079536753},\n",
       "              {'MSE': 0.34326404, 'SSIM': 0.2506070124410418},\n",
       "              {'MSE': 0.41821373, 'SSIM': 0.1644971532776903},\n",
       "              {'MSE': 0.36420768, 'SSIM': 0.2907752171236906},\n",
       "              {'MSE': 0.55170214, 'SSIM': 0.14741691326268738},\n",
       "              {'MSE': 0.2011281, 'SSIM': 0.37645184320748565},\n",
       "              {'MSE': 0.38026625, 'SSIM': 0.25194896105295295},\n",
       "              {'MSE': 0.4022233, 'SSIM': 0.2061225022882739}],\n",
       "             'outside_area': [{'MSE': 0.007185823, 'SSIM': 0.9571245275642654},\n",
       "              {'MSE': 0.0022109046, 'SSIM': 0.9455086065050441},\n",
       "              {'MSE': 0.0047426177, 'SSIM': 0.960028560060816},\n",
       "              {'MSE': 0.0015930783, 'SSIM': 0.9353771110758186},\n",
       "              {'MSE': 0.008927483, 'SSIM': 0.962250765602207},\n",
       "              {'MSE': 0.00092731544, 'SSIM': 0.9010248940838985},\n",
       "              {'MSE': 0.003957855, 'SSIM': 0.9550436785997183},\n",
       "              {'MSE': 0.0033940622, 'SSIM': 0.952453363069415}],\n",
       "             'whole_image': [{'MSE': 0.009917469, 'SSIM': 0.9499709914832442},\n",
       "              {'MSE': 0.004093839, 'SSIM': 0.9396586601833945},\n",
       "              {'MSE': 0.0070789643, 'SSIM': 0.953187400446146},\n",
       "              {'MSE': 0.0038930904, 'SSIM': 0.9296904543996186},\n",
       "              {'MSE': 0.012312061, 'SSIM': 0.9547120927798851},\n",
       "              {'MSE': 0.002439366, 'SSIM': 0.8964321469706449},\n",
       "              {'MSE': 0.005383233, 'SSIM': 0.949689258456994},\n",
       "              {'MSE': 0.005268723, 'SSIM': 0.9463409218130833}]})"
      ]
     },
     "execution_count": 43,
     "metadata": {},
     "output_type": "execute_result"
    }
   ],
   "source": [
    "scores"
   ]
  },
  {
   "cell_type": "code",
   "execution_count": null,
   "metadata": {},
   "outputs": [],
   "source": []
  }
 ],
 "metadata": {
  "kernelspec": {
   "display_name": "Python 3",
   "language": "python",
   "name": "python3"
  },
  "language_info": {
   "codemirror_mode": {
    "name": "ipython",
    "version": 3
   },
   "file_extension": ".py",
   "mimetype": "text/x-python",
   "name": "python",
   "nbconvert_exporter": "python",
   "pygments_lexer": "ipython3",
   "version": "3.6.7"
  }
 },
 "nbformat": 4,
 "nbformat_minor": 2
}
