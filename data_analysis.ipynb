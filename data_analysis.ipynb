{
 "cells": [
  {
   "cell_type": "code",
   "execution_count": 2,
   "metadata": {},
   "outputs": [],
   "source": [
    "%matplotlib inline\n",
    "\n",
    "import numpy as np\n",
    "import SimpleITK as sitk\n",
    "import matplotlib.pyplot as plt\n",
    "from sklearn.preprocessing import *\n",
    "from sklearn import preprocessing\n",
    "from scipy import ndimage\n",
    "import scipy\n",
    "import skimage\n",
    "#from medpy.filter import IntensityRangeStandardization\n",
    "import time, os\n",
    "import shutil, pathlib\n",
    "from functools import partial"
   ]
  },
  {
   "cell_type": "code",
   "execution_count": 3,
   "metadata": {},
   "outputs": [],
   "source": [
    "from pathlib import Path\n",
    "p=Path(\"data/subjects/\")\n",
    "file_img = list(p.rglob('*pp_t1w.nii.gz'))\n",
    "file_mask = list(p.rglob('*brainmask.nii.gz'))\n",
    "file_all = list(p.rglob('*.gz'))"
   ]
  },
  {
   "cell_type": "code",
   "execution_count": 4,
   "metadata": {},
   "outputs": [],
   "source": [
    "def read_all_images():\n",
    "    brain_list = []\n",
    "    for skull_path, mask_path in list(zip(file_img, file_mask)): #gre skozi vse slike\n",
    "        #make nparrays from images in file\n",
    "        skull_sitk = sitk.ReadImage(str(skull_path), sitk.sitkFloat32)\n",
    "        skull_array = sitk.GetArrayFromImage(skull_sitk)\n",
    "        mask_sitk = sitk.ReadImage(str(mask_path), sitk.sitkFloat32)\n",
    "        mask_array = sitk.GetArrayFromImage(mask_sitk)\n",
    "        brain_array = skull_array * mask_array #mask just the brain\n",
    "        brain_list.append(brain_array) #get a list of brain images\n",
    "    return brain_list"
   ]
  },
  {
   "cell_type": "code",
   "execution_count": 5,
   "metadata": {},
   "outputs": [],
   "source": [
    "brain_list = read_all_images()"
   ]
  },
  {
   "cell_type": "code",
   "execution_count": 6,
   "metadata": {},
   "outputs": [
    {
     "data": {
      "text/plain": [
       "41"
      ]
     },
     "execution_count": 6,
     "metadata": {},
     "output_type": "execute_result"
    }
   ],
   "source": [
    "len(brain_list)"
   ]
  },
  {
   "cell_type": "code",
   "execution_count": null,
   "metadata": {},
   "outputs": [],
   "source": [
    "for i in range(len(brain_list)):\n",
    "    plt.hist(brain_list[i][brain_list[i]!=0], bins = 500, histtype='step')\n",
    "    plt.xlabel('Gray value')\n",
    "    plt.ylabel('Number of pixles')"
   ]
  },
  {
   "cell_type": "code",
   "execution_count": null,
   "metadata": {},
   "outputs": [],
   "source": [
    "irs = IntensityRangeStandardization(cutoffp = (1, 99), landmarkp = IntensityRangeStandardization.L4, stdrange = 'auto')"
   ]
  },
  {
   "cell_type": "code",
   "execution_count": null,
   "metadata": {},
   "outputs": [],
   "source": [
    "brain_list_flatten = (brain.flatten() for brain in brain_list)\n",
    "brain_list_without_zero = [brain[brain !=0] for brain in brain_list_flatten]"
   ]
  },
  {
   "cell_type": "code",
   "execution_count": null,
   "metadata": {},
   "outputs": [],
   "source": [
    "irs.train(brain_list_without_zero)"
   ]
  },
  {
   "cell_type": "code",
   "execution_count": null,
   "metadata": {},
   "outputs": [],
   "source": [
    "def standardize(image):\n",
    "    idx = np.where(image != 0)\n",
    "    image_tr = irs.transform(image[idx])\n",
    "    new_image = np.array(image)\n",
    "    new_image[idx] = image_tr\n",
    "    return new_image\n",
    "standardized = [standardize(brain) for brain in brain_list]"
   ]
  },
  {
   "cell_type": "code",
   "execution_count": null,
   "metadata": {},
   "outputs": [],
   "source": [
    "for i in range(len(standardized)):\n",
    "    plt.hist(standardized[i][standardized[i]!=0], bins = 500, histtype='step')\n",
    "    plt.xlabel('Gray value')\n",
    "    plt.ylabel('Number of pixles')"
   ]
  },
  {
   "cell_type": "code",
   "execution_count": null,
   "metadata": {},
   "outputs": [],
   "source": [
    "def _norm(img):\n",
    "    mu = np.mean(img)\n",
    "    std = np.std(img)\n",
    "    return (img -mu)/std"
   ]
  },
  {
   "cell_type": "code",
   "execution_count": 7,
   "metadata": {},
   "outputs": [],
   "source": [
    "def mad(data, axis=None):\n",
    "    return np.mean(np.absolute(data - np.mean(data, axis)), axis)\n",
    "    \n",
    "def norm(img: np.ndarray):\n",
    "    idx = np.where(img !=0)\n",
    "    mu = np.median(img[idx].flatten())\n",
    "    std = mad(img[idx].flatten())\n",
    "    print('.', end='')\n",
    "    img_tr = (img[idx] - mu) / std   \n",
    "    new_img = np.array(img)\n",
    "    new_img[idx] = img_tr\n",
    "    return new_img"
   ]
  },
  {
   "cell_type": "code",
   "execution_count": 8,
   "metadata": {},
   "outputs": [
    {
     "name": "stdout",
     "output_type": "stream",
     "text": [
      "........................................."
     ]
    }
   ],
   "source": [
    "normalized = [norm(brain) for brain in brain_list]\n",
    "#1G"
   ]
  },
  {
   "cell_type": "code",
   "execution_count": 29,
   "metadata": {},
   "outputs": [
    {
     "data": {
      "text/plain": [
       "(169, 214, 154)"
      ]
     },
     "execution_count": 29,
     "metadata": {},
     "output_type": "execute_result"
    }
   ],
   "source": [
    "np.shape(normalized[0])"
   ]
  },
  {
   "cell_type": "code",
   "execution_count": 61,
   "metadata": {},
   "outputs": [
    {
     "data": {
      "text/plain": [
       "[array([ 87., 102.,  75.]),\n",
       " array([ 82., 101.,  86.]),\n",
       " array([ 99., 109.,  79.]),\n",
       " array([ 77., 105.,  83.]),\n",
       " array([90., 92., 70.]),\n",
       " array([ 81., 102.,  76.]),\n",
       " array([ 76., 153.,  77.]),\n",
       " array([103., 130.,  83.]),\n",
       " array([118., 105.,  75.]),\n",
       " array([81., 99., 77.]),\n",
       " array([97., 97., 77.]),\n",
       " array([-50.,  14.,  10.]),\n",
       " array([85., 98., 76.]),\n",
       " array([91., 98., 75.]),\n",
       " array([56., 86., 82.]),\n",
       " array([97., 99., 83.]),\n",
       " array([ 79., 104.,  75.]),\n",
       " array([90., 92., 76.]),\n",
       " array([94., 91., 73.]),\n",
       " array([133.,  71.,  72.]),\n",
       " array([117., 114.,  77.]),\n",
       " array([ 50., 257.,  82.]),\n",
       " array([112., 107.,  77.]),\n",
       " array([84., 79., 73.]),\n",
       " array([101., 106.,  77.]),\n",
       " array([84., 96., 79.]),\n",
       " array([81., 79., 79.]),\n",
       " array([110.,  98.,  92.]),\n",
       " array([84., 97., 76.]),\n",
       " array([58., 70., 74.]),\n",
       " array([106., 109.,  78.]),\n",
       " array([90., 94., 79.]),\n",
       " array([ 88., 101.,  78.]),\n",
       " array([93., 95., 80.]),\n",
       " array([87., 96., 75.]),\n",
       " array([600., 410., 120.]),\n",
       " array([ 82., 102.,  73.]),\n",
       " array([246., 127.,  79.]),\n",
       " array([107., 100.,  83.]),\n",
       " array([ 93., 105.,  77.]),\n",
       " array([89., 95., 75.])]"
      ]
     },
     "execution_count": 61,
     "metadata": {},
     "output_type": "execute_result"
    }
   ],
   "source": [
    "[np.round(ndimage.measurements.center_of_mass(layer)) for layer in normalized]"
   ]
  },
  {
   "cell_type": "code",
   "execution_count": 37,
   "metadata": {},
   "outputs": [],
   "source": [
    "def select_layers(image):\n",
    "    return [image[i, :,:] for i in range(90, 110, 2)]"
   ]
  },
  {
   "cell_type": "code",
   "execution_count": 38,
   "metadata": {},
   "outputs": [],
   "source": [
    "def crop(layer,w=88,h=72):    \n",
    "    center = np.round(ndimage.measurements.center_of_mass(layer))\n",
    "    result = layer[np.int(center[0]) - w : np.int(center[0]) + w, np.int(center[1]) - h : np.int(center[1]) + h]\n",
    "    print((np.shape(layer)), 'center:', center, 'result:', np.shape(result))\n",
    "#    if (np.shape(result)) == (w*2, h*2):\n",
    "#        plt.imshow(layer, cmap='gray')\n",
    "#        plt.show()\n",
    "#        print((np.shape(layer)), 'center:', center, 'result:', np.shape(result))\n",
    "    #assert np.shape(result) == (w*2, h*2), 'pad the image more, need a bigger img'\n",
    "    return result"
   ]
  },
  {
   "cell_type": "code",
   "execution_count": 39,
   "metadata": {},
   "outputs": [],
   "source": [
    "layers = [select_layers(img) for img in normalized]"
   ]
  },
  {
   "cell_type": "code",
   "execution_count": 53,
   "metadata": {},
   "outputs": [
    {
     "ename": "ValueError",
     "evalue": "all the input array dimensions except for the concatenation axis must match exactly",
     "output_type": "error",
     "traceback": [
      "\u001b[0;31m---------------------------------------------------------------------------\u001b[0m",
      "\u001b[0;31mValueError\u001b[0m                                Traceback (most recent call last)",
      "\u001b[0;32m<ipython-input-53-b2c97863044e>\u001b[0m in \u001b[0;36m<module>\u001b[0;34m\u001b[0m\n\u001b[0;32m----> 1\u001b[0;31m \u001b[0mnp\u001b[0m\u001b[0;34m.\u001b[0m\u001b[0mconcatenate\u001b[0m\u001b[0;34m(\u001b[0m\u001b[0mlayers\u001b[0m\u001b[0;34m)\u001b[0m\u001b[0;34m\u001b[0m\u001b[0;34m\u001b[0m\u001b[0m\n\u001b[0m",
      "\u001b[0;31mValueError\u001b[0m: all the input array dimensions except for the concatenation axis must match exactly"
     ]
    }
   ],
   "source": [
    "np.concatenate(layers)"
   ]
  },
  {
   "cell_type": "code",
   "execution_count": 54,
   "metadata": {},
   "outputs": [],
   "source": [
    "i=0"
   ]
  },
  {
   "cell_type": "code",
   "execution_count": 60,
   "metadata": {},
   "outputs": [
    {
     "name": "stdout",
     "output_type": "stream",
     "text": [
      "(10, 215, 154)\n"
     ]
    }
   ],
   "source": [
    "print(np.shape(layers[i]))\n",
    "i+=1"
   ]
  },
  {
   "cell_type": "code",
   "execution_count": 35,
   "metadata": {},
   "outputs": [
    {
     "ename": "AttributeError",
     "evalue": "'generator' object has no attribute 'size'",
     "output_type": "error",
     "traceback": [
      "\u001b[0;31m---------------------------------------------------------------------------\u001b[0m",
      "\u001b[0;31mAttributeError\u001b[0m                            Traceback (most recent call last)",
      "\u001b[0;32m<ipython-input-35-54cb18fe739f>\u001b[0m in \u001b[0;36m<module>\u001b[0;34m\u001b[0m\n\u001b[0;32m----> 1\u001b[0;31m \u001b[0mcrop\u001b[0m \u001b[0;34m=\u001b[0m \u001b[0;34m[\u001b[0m\u001b[0mcrop\u001b[0m\u001b[0;34m(\u001b[0m\u001b[0mimg\u001b[0m\u001b[0;34m)\u001b[0m \u001b[0;32mfor\u001b[0m \u001b[0mimg\u001b[0m \u001b[0;32min\u001b[0m \u001b[0mlayers\u001b[0m\u001b[0;34m]\u001b[0m\u001b[0;34m\u001b[0m\u001b[0;34m\u001b[0m\u001b[0m\n\u001b[0m",
      "\u001b[0;32m<ipython-input-35-54cb18fe739f>\u001b[0m in \u001b[0;36m<listcomp>\u001b[0;34m(.0)\u001b[0m\n\u001b[0;32m----> 1\u001b[0;31m \u001b[0mcrop\u001b[0m \u001b[0;34m=\u001b[0m \u001b[0;34m[\u001b[0m\u001b[0mcrop\u001b[0m\u001b[0;34m(\u001b[0m\u001b[0mimg\u001b[0m\u001b[0;34m)\u001b[0m \u001b[0;32mfor\u001b[0m \u001b[0mimg\u001b[0m \u001b[0;32min\u001b[0m \u001b[0mlayers\u001b[0m\u001b[0;34m]\u001b[0m\u001b[0;34m\u001b[0m\u001b[0;34m\u001b[0m\u001b[0m\n\u001b[0m",
      "\u001b[0;32m<ipython-input-10-98c383cc8fe7>\u001b[0m in \u001b[0;36mcrop\u001b[0;34m(layer, w, h)\u001b[0m\n\u001b[1;32m      1\u001b[0m \u001b[0;32mdef\u001b[0m \u001b[0mcrop\u001b[0m\u001b[0;34m(\u001b[0m\u001b[0mlayer\u001b[0m\u001b[0;34m,\u001b[0m\u001b[0mw\u001b[0m\u001b[0;34m=\u001b[0m\u001b[0;36m88\u001b[0m\u001b[0;34m,\u001b[0m\u001b[0mh\u001b[0m\u001b[0;34m=\u001b[0m\u001b[0;36m72\u001b[0m\u001b[0;34m)\u001b[0m\u001b[0;34m:\u001b[0m\u001b[0;34m\u001b[0m\u001b[0;34m\u001b[0m\u001b[0m\n\u001b[0;32m----> 2\u001b[0;31m     \u001b[0mcenter\u001b[0m \u001b[0;34m=\u001b[0m \u001b[0mnp\u001b[0m\u001b[0;34m.\u001b[0m\u001b[0mround\u001b[0m\u001b[0;34m(\u001b[0m\u001b[0mndimage\u001b[0m\u001b[0;34m.\u001b[0m\u001b[0mmeasurements\u001b[0m\u001b[0;34m.\u001b[0m\u001b[0mcenter_of_mass\u001b[0m\u001b[0;34m(\u001b[0m\u001b[0mlayer\u001b[0m\u001b[0;34m)\u001b[0m\u001b[0;34m)\u001b[0m\u001b[0;34m\u001b[0m\u001b[0;34m\u001b[0m\u001b[0m\n\u001b[0m\u001b[1;32m      3\u001b[0m     \u001b[0mresult\u001b[0m \u001b[0;34m=\u001b[0m \u001b[0mlayer\u001b[0m\u001b[0;34m[\u001b[0m\u001b[0mnp\u001b[0m\u001b[0;34m.\u001b[0m\u001b[0mint\u001b[0m\u001b[0;34m(\u001b[0m\u001b[0mcenter\u001b[0m\u001b[0;34m[\u001b[0m\u001b[0;36m0\u001b[0m\u001b[0;34m]\u001b[0m\u001b[0;34m)\u001b[0m \u001b[0;34m-\u001b[0m \u001b[0mw\u001b[0m \u001b[0;34m:\u001b[0m \u001b[0mnp\u001b[0m\u001b[0;34m.\u001b[0m\u001b[0mint\u001b[0m\u001b[0;34m(\u001b[0m\u001b[0mcenter\u001b[0m\u001b[0;34m[\u001b[0m\u001b[0;36m0\u001b[0m\u001b[0;34m]\u001b[0m\u001b[0;34m)\u001b[0m \u001b[0;34m+\u001b[0m \u001b[0mw\u001b[0m\u001b[0;34m,\u001b[0m \u001b[0mnp\u001b[0m\u001b[0;34m.\u001b[0m\u001b[0mint\u001b[0m\u001b[0;34m(\u001b[0m\u001b[0mcenter\u001b[0m\u001b[0;34m[\u001b[0m\u001b[0;36m1\u001b[0m\u001b[0;34m]\u001b[0m\u001b[0;34m)\u001b[0m \u001b[0;34m-\u001b[0m \u001b[0mh\u001b[0m \u001b[0;34m:\u001b[0m \u001b[0mnp\u001b[0m\u001b[0;34m.\u001b[0m\u001b[0mint\u001b[0m\u001b[0;34m(\u001b[0m\u001b[0mcenter\u001b[0m\u001b[0;34m[\u001b[0m\u001b[0;36m1\u001b[0m\u001b[0;34m]\u001b[0m\u001b[0;34m)\u001b[0m \u001b[0;34m+\u001b[0m \u001b[0mh\u001b[0m\u001b[0;34m]\u001b[0m\u001b[0;34m\u001b[0m\u001b[0;34m\u001b[0m\u001b[0m\n\u001b[1;32m      4\u001b[0m     \u001b[0mprint\u001b[0m\u001b[0;34m(\u001b[0m\u001b[0;34m(\u001b[0m\u001b[0mnp\u001b[0m\u001b[0;34m.\u001b[0m\u001b[0mshape\u001b[0m\u001b[0;34m(\u001b[0m\u001b[0mlayer\u001b[0m\u001b[0;34m)\u001b[0m\u001b[0;34m)\u001b[0m\u001b[0;34m,\u001b[0m \u001b[0;34m'center:'\u001b[0m\u001b[0;34m,\u001b[0m \u001b[0mcenter\u001b[0m\u001b[0;34m,\u001b[0m \u001b[0;34m'result:'\u001b[0m\u001b[0;34m,\u001b[0m \u001b[0mnp\u001b[0m\u001b[0;34m.\u001b[0m\u001b[0mshape\u001b[0m\u001b[0;34m(\u001b[0m\u001b[0mresult\u001b[0m\u001b[0;34m)\u001b[0m\u001b[0;34m)\u001b[0m\u001b[0;34m\u001b[0m\u001b[0;34m\u001b[0m\u001b[0m\n\u001b[1;32m      5\u001b[0m \u001b[0;31m#    if (np.shape(result)) == (w*2, h*2):\u001b[0m\u001b[0;34m\u001b[0m\u001b[0;34m\u001b[0m\u001b[0;34m\u001b[0m\u001b[0m\n",
      "\u001b[0;32m/opt/conda/lib/python3.6/site-packages/scipy/ndimage/measurements.py\u001b[0m in \u001b[0;36mcenter_of_mass\u001b[0;34m(input, labels, index)\u001b[0m\n\u001b[1;32m   1322\u001b[0m     \u001b[0;34m(\u001b[0m\u001b[0minf\u001b[0m\u001b[0;34m,\u001b[0m\u001b[0;34m)\u001b[0m\u001b[0;34m\u001b[0m\u001b[0;34m\u001b[0m\u001b[0m\n\u001b[1;32m   1323\u001b[0m     \"\"\"\n\u001b[0;32m-> 1324\u001b[0;31m     \u001b[0mnormalizer\u001b[0m \u001b[0;34m=\u001b[0m \u001b[0msum\u001b[0m\u001b[0;34m(\u001b[0m\u001b[0minput\u001b[0m\u001b[0;34m,\u001b[0m \u001b[0mlabels\u001b[0m\u001b[0;34m,\u001b[0m \u001b[0mindex\u001b[0m\u001b[0;34m)\u001b[0m\u001b[0;34m\u001b[0m\u001b[0;34m\u001b[0m\u001b[0m\n\u001b[0m\u001b[1;32m   1325\u001b[0m     \u001b[0mgrids\u001b[0m \u001b[0;34m=\u001b[0m \u001b[0mnumpy\u001b[0m\u001b[0;34m.\u001b[0m\u001b[0mogrid\u001b[0m\u001b[0;34m[\u001b[0m\u001b[0;34m[\u001b[0m\u001b[0mslice\u001b[0m\u001b[0;34m(\u001b[0m\u001b[0;36m0\u001b[0m\u001b[0;34m,\u001b[0m \u001b[0mi\u001b[0m\u001b[0;34m)\u001b[0m \u001b[0;32mfor\u001b[0m \u001b[0mi\u001b[0m \u001b[0;32min\u001b[0m \u001b[0minput\u001b[0m\u001b[0;34m.\u001b[0m\u001b[0mshape\u001b[0m\u001b[0;34m]\u001b[0m\u001b[0;34m]\u001b[0m\u001b[0;34m\u001b[0m\u001b[0;34m\u001b[0m\u001b[0m\n\u001b[1;32m   1326\u001b[0m \u001b[0;34m\u001b[0m\u001b[0m\n",
      "\u001b[0;32m/opt/conda/lib/python3.6/site-packages/scipy/ndimage/measurements.py\u001b[0m in \u001b[0;36msum\u001b[0;34m(input, labels, index)\u001b[0m\n\u001b[1;32m    582\u001b[0m \u001b[0;34m\u001b[0m\u001b[0m\n\u001b[1;32m    583\u001b[0m     \"\"\"\n\u001b[0;32m--> 584\u001b[0;31m     \u001b[0mcount\u001b[0m\u001b[0;34m,\u001b[0m \u001b[0msum\u001b[0m \u001b[0;34m=\u001b[0m \u001b[0m_stats\u001b[0m\u001b[0;34m(\u001b[0m\u001b[0minput\u001b[0m\u001b[0;34m,\u001b[0m \u001b[0mlabels\u001b[0m\u001b[0;34m,\u001b[0m \u001b[0mindex\u001b[0m\u001b[0;34m)\u001b[0m\u001b[0;34m\u001b[0m\u001b[0;34m\u001b[0m\u001b[0m\n\u001b[0m\u001b[1;32m    585\u001b[0m     \u001b[0;32mreturn\u001b[0m \u001b[0msum\u001b[0m\u001b[0;34m\u001b[0m\u001b[0;34m\u001b[0m\u001b[0m\n\u001b[1;32m    586\u001b[0m \u001b[0;34m\u001b[0m\u001b[0m\n",
      "\u001b[0;32m/opt/conda/lib/python3.6/site-packages/scipy/ndimage/measurements.py\u001b[0m in \u001b[0;36m_stats\u001b[0;34m(input, labels, index, centered)\u001b[0m\n\u001b[1;32m    473\u001b[0m \u001b[0;34m\u001b[0m\u001b[0m\n\u001b[1;32m    474\u001b[0m     \u001b[0;32mif\u001b[0m \u001b[0mlabels\u001b[0m \u001b[0;32mis\u001b[0m \u001b[0;32mNone\u001b[0m\u001b[0;34m:\u001b[0m\u001b[0;34m\u001b[0m\u001b[0;34m\u001b[0m\u001b[0m\n\u001b[0;32m--> 475\u001b[0;31m         \u001b[0;32mreturn\u001b[0m \u001b[0msingle_group\u001b[0m\u001b[0;34m(\u001b[0m\u001b[0minput\u001b[0m\u001b[0;34m)\u001b[0m\u001b[0;34m\u001b[0m\u001b[0;34m\u001b[0m\u001b[0m\n\u001b[0m\u001b[1;32m    476\u001b[0m \u001b[0;34m\u001b[0m\u001b[0m\n\u001b[1;32m    477\u001b[0m     \u001b[0;31m# ensure input and labels match sizes\u001b[0m\u001b[0;34m\u001b[0m\u001b[0;34m\u001b[0m\u001b[0;34m\u001b[0m\u001b[0m\n",
      "\u001b[0;32m/opt/conda/lib/python3.6/site-packages/scipy/ndimage/measurements.py\u001b[0m in \u001b[0;36msingle_group\u001b[0;34m(vals)\u001b[0m\n\u001b[1;32m    470\u001b[0m             \u001b[0;32mreturn\u001b[0m \u001b[0mvals\u001b[0m\u001b[0;34m.\u001b[0m\u001b[0msize\u001b[0m\u001b[0;34m,\u001b[0m \u001b[0mvals\u001b[0m\u001b[0;34m.\u001b[0m\u001b[0msum\u001b[0m\u001b[0;34m(\u001b[0m\u001b[0;34m)\u001b[0m\u001b[0;34m,\u001b[0m \u001b[0;34m(\u001b[0m\u001b[0mvals_c\u001b[0m \u001b[0;34m*\u001b[0m \u001b[0mvals_c\u001b[0m\u001b[0;34m.\u001b[0m\u001b[0mconjugate\u001b[0m\u001b[0;34m(\u001b[0m\u001b[0;34m)\u001b[0m\u001b[0;34m)\u001b[0m\u001b[0;34m.\u001b[0m\u001b[0msum\u001b[0m\u001b[0;34m(\u001b[0m\u001b[0;34m)\u001b[0m\u001b[0;34m\u001b[0m\u001b[0;34m\u001b[0m\u001b[0m\n\u001b[1;32m    471\u001b[0m         \u001b[0;32melse\u001b[0m\u001b[0;34m:\u001b[0m\u001b[0;34m\u001b[0m\u001b[0;34m\u001b[0m\u001b[0m\n\u001b[0;32m--> 472\u001b[0;31m             \u001b[0;32mreturn\u001b[0m \u001b[0mvals\u001b[0m\u001b[0;34m.\u001b[0m\u001b[0msize\u001b[0m\u001b[0;34m,\u001b[0m \u001b[0mvals\u001b[0m\u001b[0;34m.\u001b[0m\u001b[0msum\u001b[0m\u001b[0;34m(\u001b[0m\u001b[0;34m)\u001b[0m\u001b[0;34m\u001b[0m\u001b[0;34m\u001b[0m\u001b[0m\n\u001b[0m\u001b[1;32m    473\u001b[0m \u001b[0;34m\u001b[0m\u001b[0m\n\u001b[1;32m    474\u001b[0m     \u001b[0;32mif\u001b[0m \u001b[0mlabels\u001b[0m \u001b[0;32mis\u001b[0m \u001b[0;32mNone\u001b[0m\u001b[0;34m:\u001b[0m\u001b[0;34m\u001b[0m\u001b[0;34m\u001b[0m\u001b[0m\n",
      "\u001b[0;31mAttributeError\u001b[0m: 'generator' object has no attribute 'size'"
     ]
    }
   ],
   "source": [
    "crop = [crop(img) for img in layers]"
   ]
  },
  {
   "cell_type": "code",
   "execution_count": null,
   "metadata": {},
   "outputs": [],
   "source": []
  },
  {
   "cell_type": "code",
   "execution_count": 9,
   "metadata": {},
   "outputs": [
    {
     "data": {
      "image/png": "[encoded data removed]",
      "text/plain": [
       "<Figure size 432x288 with 1 Axes>"
      ]
     },
     "metadata": {
      "needs_background": "light"
     },
     "output_type": "display_data"
    }
   ],
   "source": [
    "for i in range(len(normalized)):\n",
    "    plt.hist(normalized[i][normalized[i]!=0], bins = 500, histtype='step')\n",
    "    plt.xlabel('Gray value')\n",
    "    plt.ylabel('Number of pixles')"
   ]
  },
  {
   "cell_type": "code",
   "execution_count": null,
   "metadata": {},
   "outputs": [],
   "source": [
    "standardized_normalized = [norm(brain) for brain in standardized]"
   ]
  },
  {
   "cell_type": "code",
   "execution_count": null,
   "metadata": {},
   "outputs": [],
   "source": [
    "for i in range(len(standardized_normalized)):\n",
    "    plt.hist(standardized_normalized[i][standardized_normalized[i]!=0], bins = 500, histtype='step')"
   ]
  },
  {
   "cell_type": "code",
   "execution_count": null,
   "metadata": {},
   "outputs": [],
   "source": [
    "normalized_standardize = [standardize(brain) for brain in normalized]"
   ]
  },
  {
   "cell_type": "code",
   "execution_count": null,
   "metadata": {},
   "outputs": [],
   "source": [
    "for i in range(len(normalized_standardize)):\n",
    "    plt.hist(normalized_standardize[i][normalized_standardize[i]!=0], bins = 500, histtype='step')"
   ]
  },
  {
   "cell_type": "code",
   "execution_count": null,
   "metadata": {},
   "outputs": [],
   "source": []
  },
  {
   "cell_type": "code",
   "execution_count": null,
   "metadata": {},
   "outputs": [],
   "source": [
    "def _change_range(img):\n",
    "    img_max = img.max()\n",
    "    img_min = img.min()\n",
    "    norm_img = ((img - img_min)/(img_max - img_min))#*2 - 1\n",
    "    return norm_img"
   ]
  },
  {
   "cell_type": "code",
   "execution_count": null,
   "metadata": {},
   "outputs": [],
   "source": [
    "def change_range(image): ###good!!\n",
    "    idx = np.where(image != 0)\n",
    "    img_max = np.max(image[idx])\n",
    "    img_min = np.min(image[idx])\n",
    "    image_tr = ((image[idx] - img_min)/(img_max - img_min))\n",
    "    new_image = np.array(image)\n",
    "    new_image[idx] = image_tr\n",
    "    return new_image"
   ]
  },
  {
   "cell_type": "code",
   "execution_count": null,
   "metadata": {},
   "outputs": [],
   "source": [
    "change_range_list = [change_range(brain) for brain in brain_list]"
   ]
  },
  {
   "cell_type": "code",
   "execution_count": null,
   "metadata": {},
   "outputs": [],
   "source": [
    "for i in range(len(change_range_list)):\n",
    "    plt.hist(change_range_list[i][change_range_list[i] != 0], bins = 500, histtype='step')\n",
    "    plt.xlabel('Gray value')\n",
    "    plt.ylabel('Number of pixles')"
   ]
  },
  {
   "cell_type": "code",
   "execution_count": null,
   "metadata": {},
   "outputs": [],
   "source": [
    "standardize_change_range = [change_range(brain) for brain in standardized]"
   ]
  },
  {
   "cell_type": "code",
   "execution_count": null,
   "metadata": {},
   "outputs": [],
   "source": [
    "for i in range(len(standardize_change_range)):\n",
    "    plt.hist(standardize_change_range[i][standardize_change_range[i] != 0], bins = 500, histtype='step')\n",
    "    plt.xlabel('Gray value')\n",
    "    plt.ylabel('Number of pixles')"
   ]
  },
  {
   "cell_type": "code",
   "execution_count": null,
   "metadata": {},
   "outputs": [],
   "source": [
    "normalized_change_range = [change_range(brain) for brain in normalized]"
   ]
  },
  {
   "cell_type": "code",
   "execution_count": null,
   "metadata": {},
   "outputs": [],
   "source": [
    "for i in range(len(normalized_change_range)):\n",
    "    plt.hist(normalized_change_range[i][normalized_change_range[i] != 0], bins = 500, histtype='step')\n",
    "    plt.xlabel('Gray value')\n",
    "    plt.ylabel('Number of pixles')"
   ]
  },
  {
   "cell_type": "code",
   "execution_count": null,
   "metadata": {},
   "outputs": [],
   "source": [
    "normalized_standardize_change_range = [change_range(brain) for brain in normalized_standardize]"
   ]
  },
  {
   "cell_type": "code",
   "execution_count": null,
   "metadata": {},
   "outputs": [],
   "source": [
    "for i in range(len(normalized_standardize_change_range)):\n",
    "    plt.hist(normalized_standardize_change_range[i][normalized_standardize_change_range[i] != 0], bins = 500, histtype='step')\n",
    "    plt.xlabel('Gray value')\n",
    "    plt.ylabel('Number of pixles')"
   ]
  },
  {
   "cell_type": "code",
   "execution_count": null,
   "metadata": {},
   "outputs": [],
   "source": [
    "standardize_normalize_change_range = [change_range(brain) for brain in standardized_normalized]"
   ]
  },
  {
   "cell_type": "code",
   "execution_count": null,
   "metadata": {},
   "outputs": [],
   "source": [
    "for i in range(len(standardize_normalize_change_range)):\n",
    "    plt.hist(standardize_normalize_change_range[i][standardize_normalize_change_range[i] != 0], bins = 500, histtype='step')"
   ]
  },
  {
   "cell_type": "code",
   "execution_count": null,
   "metadata": {},
   "outputs": [],
   "source": [
    "#if normalized and standarized doesn't matter on orrder"
   ]
  },
  {
   "cell_type": "code",
   "execution_count": null,
   "metadata": {},
   "outputs": [],
   "source": []
  },
  {
   "cell_type": "code",
   "execution_count": null,
   "metadata": {},
   "outputs": [],
   "source": []
  },
  {
   "cell_type": "code",
   "execution_count": null,
   "metadata": {},
   "outputs": [],
   "source": []
  },
  {
   "cell_type": "code",
   "execution_count": null,
   "metadata": {},
   "outputs": [],
   "source": []
  },
  {
   "cell_type": "code",
   "execution_count": null,
   "metadata": {},
   "outputs": [],
   "source": []
  },
  {
   "cell_type": "code",
   "execution_count": null,
   "metadata": {},
   "outputs": [],
   "source": []
  },
  {
   "cell_type": "code",
   "execution_count": null,
   "metadata": {},
   "outputs": [],
   "source": []
  },
  {
   "cell_type": "code",
   "execution_count": null,
   "metadata": {},
   "outputs": [],
   "source": []
  },
  {
   "cell_type": "code",
   "execution_count": null,
   "metadata": {},
   "outputs": [],
   "source": []
  },
  {
   "cell_type": "code",
   "execution_count": null,
   "metadata": {},
   "outputs": [],
   "source": []
  },
  {
   "cell_type": "code",
   "execution_count": null,
   "metadata": {},
   "outputs": [],
   "source": []
  },
  {
   "cell_type": "code",
   "execution_count": null,
   "metadata": {},
   "outputs": [],
   "source": []
  },
  {
   "cell_type": "code",
   "execution_count": 1,
   "metadata": {},
   "outputs": [],
   "source": [
    "# Copyright (C) 2013 Oskar Maier\n",
    "# \n",
    "# This program is free software: you can redistribute it and/or modify\n",
    "# it under the terms of the GNU General Public License as published by\n",
    "# the Free Software Foundation, either version 3 of the License, or\n",
    "# (at your option) any later version.\n",
    "# \n",
    "# This program is distributed in the hope that it will be useful,\n",
    "# but WITHOUT ANY WARRANTY; without even the implied warranty of\n",
    "# MERCHANTABILITY or FITNESS FOR A PARTICULAR PURPOSE.  See the\n",
    "# GNU General Public License for more details.\n",
    "# \n",
    "# You should have received a copy of the GNU General Public License\n",
    "# along with this program.  If not, see <http://www.gnu.org/licenses/>.\n",
    "#\n",
    "# author Oskar Maier\n",
    "# version r0.1.2\n",
    "# since 2013-09-04\n",
    "# status Release\n",
    "\n",
    "# build-in modules\n",
    "\n",
    "# third-party modules\n",
    "import numpy\n",
    "from scipy.interpolate.interpolate import interp1d\n",
    "\n",
    "# path changes\n",
    "\n",
    "# own modules\n",
    "\n",
    "# code\n",
    "class IntensityRangeStandardization (object):\n",
    "    r\"\"\"\n",
    "    Class to standardize intensity ranges between a number of images.\n",
    "    \n",
    "    **Short description:**\n",
    "    Often images containing similar objects or scenes have different intensity ranges\n",
    "    that make it difficult to compare them manually as well as to process them\n",
    "    further.\n",
    "    \n",
    "    IntensityRangeStandardization offers a way to transform a number of such images\n",
    "    intensity ranges to a common standard intensity space without any loss of\n",
    "    information using a multi-segment linear transformation model.\n",
    "    \n",
    "    Once learned, this model can be applied to other, formerly unseen images to map\n",
    "    them to the same standard intensity space.    \n",
    "            \n",
    "    **Concept of similar images:**\n",
    "    IntensityRangeStandardization is limited to similar images. Images containing\n",
    "    different object or different compositions of objects are not suitable to be\n",
    "    transformed to a common intensity space (and it would furthermore not make much\n",
    "    sense).\n",
    "    \n",
    "    A typical application of IntensityRangeStandardization are MRI images showing the\n",
    "    same body region. These often have different intensity ranges, even when acquired\n",
    "    from the same patient and using the same scanner. For further processing, e.g.\n",
    "    for training a classifier, they have to be mapped to a common intensity space.\n",
    "    \n",
    "    **Failure of the transformation:**\n",
    "    The method implemented in IntensityRangeStandardization ensures that no\n",
    "    information is lost i.e. a lossless transformation is performed. This can be\n",
    "    assured when there exists a one-to-one mapping between the images original\n",
    "    intensity values and their values mapped to the standard intensity space.\n",
    "    \n",
    "    But since the transformation model is trained on, and the standard intensity\n",
    "    space range selected over the training images, this can not be guaranteed for all\n",
    "    formerly unseen image. If they differ greatly from the training set images, a\n",
    "    lossless transformation can not be assured anymore. In this case the transform()\n",
    "    method will throw an InformationLossException.\n",
    "    \n",
    "    Should this happen, the model needs to be re-trained with the original training\n",
    "    images and additionally the images which caused the failure. Since this will lead\n",
    "    to a new intensity standard space, all already transformed images have to be\n",
    "    processed again.\n",
    "    \n",
    "    **Setting the training parameters:**\n",
    "    The method comes with a set of default parameters, that are suitable for most\n",
    "    cases. But for some special cases, it might be better to set them on your own. Ti\n",
    "    understand the working of the parameters, it is recommended to read the detailed\n",
    "    method description first.\n",
    "    \n",
    "    **The method depends on three parameters:**\n",
    "    \n",
    "    cutoffp, i.e. the cut-off percentiles\n",
    "        These are used to the define the intensity outliers, both during training and\n",
    "        image transformation. The default values are usualy a good choice.\n",
    "        (in [1]_ these are called the minimum and maximum percentile values pc1 and pc2 respectively)\n",
    "    landmarkp, i.e. the landmark percentiles\n",
    "        These percentiles define the landmark positions. The more supplied, the more\n",
    "        exact but less general becomes the model. It is common to supply equally\n",
    "        spaced percentiles between 0 and 100.\n",
    "        (in [1]_ these are called the landmark locations mu_1, .., mu_l)\n",
    "    strange, i.e. the standard intensity space range\n",
    "        These two intensity values define roughly the standard intensity space (or\n",
    "        common intensity space of the images; or even target intensity space) to\n",
    "        which each images intensities are mapped. This space can be supplied, but it\n",
    "        is usually recommended to let the method select it automatically during the\n",
    "        training process. It is additionally possible to supply only the lower or\n",
    "        upper range border and set the other to ''auto'', in which case the method\n",
    "        chooses the range automatically, but not the position. \n",
    "        (in [1]_ these are called the minimum and maximum intensities on the standard scale of the IOI s1 resp. s2)\n",
    "    \n",
    "    \n",
    "    **Details of the method:**\n",
    "    In the following the method is described in some more detail. For even more\n",
    "    information see [1]_.\n",
    "         \n",
    "    Essentially the method is based on a multi-segment linear transformation model. A\n",
    "    standard intensity space (or common intensity space) is defined by an intensity\n",
    "    value range ''stdrange''.\n",
    "    During the training phase, the intensity values at certain cut-off percentiles of\n",
    "    each image are computed and a single-segment linear mapping from them to the\n",
    "    standard intensity space range limits created. Then the images intensity values\n",
    "    at a number of landmark percentiles are extracted and passed to the linear\n",
    "    mapping to be transfered roughly to the standard intensity space. The mean of all\n",
    "    these mapped landmark intensities form the model learned.\n",
    "      \n",
    "    When presented with an image to transform, these images intensity values are\n",
    "    extracted at the cut-off percentile as well as at the landmark percentile\n",
    "    positions. This results in a number of segments. Using these and the\n",
    "    corresponding standard intensity space range values and learned mean landmark\n",
    "    values, a multi-segment linear transformation model is created for the image.\n",
    "    This is then applied to the images intensity values to map them to the standard\n",
    "    intensity space.\n",
    "    \n",
    "    Outliers, i.e. the images intensity values that lie outside of the cut-off\n",
    "    percentiles, are treated separately. They are transformed like the first resp.\n",
    "    last segmented of the transformation model. Not that this means the transformed\n",
    "    images intensity values do not always lie inside the standard intensity space\n",
    "    range, but are fitted as best as possible inside.\n",
    "         \n",
    "    Parameters\n",
    "    ----------\n",
    "    cutoffp : (float, float)\n",
    "        Lower and upper cut-off percentiles to exclude outliers.\n",
    "    landmarkp : sequence of floats\n",
    "        List of percentiles serving as model landmarks, must lie\n",
    "        between the cutoffp values.\n",
    "    stdrange : string or (float, float)\n",
    "        The range of the standard intensity space for which a\n",
    "        transformation is learned; when set to 'auto, automatically\n",
    "        determined from the training image upon training; it is also\n",
    "        possible to fix either the upper or the lower border value and\n",
    "        setting the other to 'auto'.\n",
    "        \n",
    "    Examples\n",
    "    --------\n",
    "    We have a number of similar images with varying intensity ranges. To make them\n",
    "    comparable, we would like to transform them to a common intensity space. Thus we\n",
    "    run:\n",
    "    \n",
    "        >>> from medpy.filter import IntensityRangeStandardization\n",
    "        >>> irs = IntensityRangeStandardization()\n",
    "        >>> trained_model, transformed_images = irs.train_transform(images)\n",
    "        \n",
    "    Let us assume we now obtain another, new image, that we would like to make\n",
    "    comparable to the others. As long as it does not differ to much from these, we\n",
    "    can simply call:\n",
    "        \n",
    "        >>> transformed_image = irs.transform(new_image)\n",
    "        \n",
    "    For many application, not all images are already available at the time of\n",
    "    execution. It would therefore be good to be able to preserve a once trained\n",
    "    model. The solution is to just pickle the once trained model:\n",
    "    \n",
    "        >>> import pickle\n",
    "        >>> with open('my_trained_model.pkl', 'wb') as f:\n",
    "        >>>     pickle.dump(irs, f)\n",
    "            \n",
    "    And load it again when required with:\n",
    "    \n",
    "        >>> with open('my_trained_model.pkl', 'r') as f:\n",
    "        >>>     irs = pickle.load(f)\n",
    "        \n",
    "    References\n",
    "    ----------\n",
    "    .. [1] Nyul, L.G.; Udupa, J.K.; Xuan Zhang, \"New variants of a method of MRI scale\n",
    "       standardization,\" Medical Imaging, IEEE Transactions on , vol.19, no.2, pp.143-150,\n",
    "       Feb. 2000\n",
    "    \"\"\"    \n",
    "    \n",
    "    # static member variables\n",
    "    L2 = [50]\n",
    "    \"\"\"1-value landmark points model.\"\"\"\n",
    "    L3 = [25, 50, 75]\n",
    "    \"\"\"3-value landmark points model.\"\"\"\n",
    "    L4 = [10, 20, 30, 40, 50, 60, 70, 80, 90]\n",
    "    \"\"\"9-value landmark points model.\"\"\"\n",
    "    \n",
    "    def __init__(self, cutoffp = (1, 99), landmarkp = L4, stdrange = 'auto'):\n",
    "        # check parameters\n",
    "        if not IntensityRangeStandardization.is_sequence(cutoffp):\n",
    "            raise ValueError('cutoffp must be a sequence')\n",
    "        if not 2 == len(cutoffp):\n",
    "            raise ValueError('cutoffp must be of length 2, not {}'.format(len(cutoffp)))\n",
    "        if not IntensityRangeStandardization.are_numbers(cutoffp):\n",
    "            raise ValueError('cutoffp elements must be numbers')\n",
    "        if not IntensityRangeStandardization.are_in_interval(cutoffp, 0, 100, 'included'):\n",
    "            raise ValueError('cutoffp elements must be in [0, 100]')\n",
    "        if not cutoffp[1] > cutoffp[0]:\n",
    "            raise ValueError('the second element of cutoffp must be larger than the first')\n",
    "        \n",
    "        if not IntensityRangeStandardization.is_sequence(landmarkp):\n",
    "            raise ValueError('landmarkp must be a sequence')\n",
    "        if not 1 <= len(landmarkp):\n",
    "            raise ValueError('landmarkp must be of length >= 1, not {}'.format(len(landmarkp)))\n",
    "        if not IntensityRangeStandardization.are_numbers(landmarkp):\n",
    "            raise ValueError('landmarkp elements must be numbers')\n",
    "        if not IntensityRangeStandardization.are_in_interval(landmarkp, 0, 100, 'included'):\n",
    "            raise ValueError('landmarkp elements must be in [0, 100]')\n",
    "        if not IntensityRangeStandardization.are_in_interval(landmarkp, cutoffp[0], cutoffp[1], 'excluded'):\n",
    "            raise ValueError('landmarkp elements must be in between the elements of cutoffp')\n",
    "        if not len(landmarkp) == len(numpy.unique(landmarkp)):\n",
    "            raise ValueError('landmarkp elements must be unique')\n",
    "        \n",
    "        if 'auto' == stdrange:\n",
    "            stdrange = ('auto', 'auto')\n",
    "        else:\n",
    "            if not IntensityRangeStandardization.is_sequence(stdrange):\n",
    "                raise ValueError('stdrange must be a sequence or \\'auto\\'')\n",
    "            if not 2 == len(stdrange):\n",
    "                raise ValueError('stdrange must be of length 2, not {}'.format(len(stdrange)))\n",
    "            if not 'auto' in stdrange:\n",
    "                if not IntensityRangeStandardization.are_numbers(stdrange):\n",
    "                    raise ValueError('stdrange elements must be numbers or \\'auto\\'')\n",
    "                if not stdrange[1] > stdrange[0]:\n",
    "                    raise ValueError('the second element of stdrange must be larger than the first')\n",
    "            elif 'auto' == stdrange[0] and not IntensityRangeStandardization.is_number(stdrange[1]):\n",
    "                raise ValueError('stdrange elements must be numbers or \\'auto\\'')\n",
    "            elif 'auto' == stdrange[1] and not IntensityRangeStandardization.is_number(stdrange[0]):\n",
    "                raise ValueError('stdrange elements must be numbers or \\'auto\\'')\n",
    "                \n",
    "        \n",
    "        # process parameters\n",
    "        self.__cutoffp = IntensityRangeStandardization.to_float(cutoffp)\n",
    "        self.__landmarkp = IntensityRangeStandardization.to_float(sorted(landmarkp))\n",
    "        self.__stdrange = ['auto' if 'auto' == x else float(x) for x in stdrange]\n",
    "            \n",
    "        # initialize remaining instance parameters\n",
    "        self.__model = None\n",
    "        self.__sc_umins = None\n",
    "        self.__sc_umaxs = None\n",
    "        \n",
    "    def train(self, images):\n",
    "        r\"\"\"\n",
    "        Train a standard intensity space and an associated transformation model.\n",
    "        \n",
    "        Note that the passed images should be masked to contain only the foreground.\n",
    "        \n",
    "        Parameters\n",
    "        ----------\n",
    "        images : sequence of array_likes\n",
    "            A number of images.\n",
    "        \n",
    "        Returns\n",
    "        -------\n",
    "        IntensityRangeStandardization : IntensityRangeStandardization\n",
    "            This instance of IntensityRangeStandardization\n",
    "        \"\"\"\n",
    "        self.__stdrange = self.__compute_stdrange(images)\n",
    "        \n",
    "        lim = []\n",
    "        for idx, i in enumerate(images):\n",
    "            ci = numpy.array(numpy.percentile(i, self.__cutoffp))\n",
    "            li = numpy.array(numpy.percentile(i, self.__landmarkp))\n",
    "            ipf = interp1d(ci, self.__stdrange)\n",
    "            lim.append(ipf(li))\n",
    "\n",
    "            # treat single intensity accumulation error            \n",
    "            if not len(numpy.unique(numpy.concatenate((ci, li)))) == len(ci) + len(li):\n",
    "                raise SingleIntensityAccumulationError('Image no.{} shows an unusual single-intensity accumulation that leads to a situation where two percentile values are equal. This situation is usually caused, when the background has not been removed from the image. Another possibility would be to reduce the number of landmark percentiles landmarkp or to change their distribution.'.format(idx))\n",
    "            \n",
    "        self.__model = [self.__stdrange[0]] + list(numpy.mean(lim, 0)) + [self.__stdrange[1]]\n",
    "        self.__sc_umins = [self.__stdrange[0]] + list(numpy.min(lim, 0)) + [self.__stdrange[1]]\n",
    "        self.__sc_umaxs = [self.__stdrange[0]] + list(numpy.max(lim, 0)) + [self.__stdrange[1]]\n",
    "            \n",
    "        return self\n",
    "        \n",
    "    def transform(self, image, surpress_mapping_check = False):\n",
    "        r\"\"\"\n",
    "        Transform an images intensity values to the learned standard intensity space.\n",
    "        \n",
    "        Note that the passed image should be masked to contain only the foreground.\n",
    "        \n",
    "        The transformation is guaranteed to be lossless i.e. a one-to-one mapping between\n",
    "        old and new intensity values exists. In cases where this does not hold, an error\n",
    "        is thrown. This can be suppressed by setting ``surpress_mapping_check`` to 'True'.\n",
    "        Do this only if you know what you are doing.\n",
    "        \n",
    "        Parameters\n",
    "        ----------\n",
    "        image : array_like\n",
    "            The image to transform.\n",
    "        surpress_mapping_check : bool\n",
    "            Whether to ensure a lossless transformation or not.\n",
    "        \n",
    "        Returns\n",
    "        -------\n",
    "        image : ndarray\n",
    "            The transformed image\n",
    "        \n",
    "        Raises\n",
    "        -------\n",
    "        InformationLossException \n",
    "            If a lossless transformation can not be ensured\n",
    "        Exception\n",
    "            If no model has been trained before\n",
    "        \"\"\"\n",
    "        if None == self.__model:\n",
    "            raise UntrainedException('Model not trained. Call train() first.')\n",
    "        \n",
    "        image = numpy.asarray(image)\n",
    "        \n",
    "        # determine image intensity values at cut-off percentiles & landmark percentiles\n",
    "        li = numpy.percentile(image, [self.__cutoffp[0]] + self.__landmarkp + [self.__cutoffp[1]])\n",
    "        \n",
    "        # treat single intensity accumulation error            \n",
    "        if not len(numpy.unique(li)) == len(li):\n",
    "            raise SingleIntensityAccumulationError('The image shows an unusual single-intensity accumulation that leads to a situation where two percentile values are equal. This situation is usually caused, when the background has not been removed from the image. The only other possibility would be to re-train the model with a reduced number of landmark percentiles landmarkp or a changed distribution.')\n",
    "        \n",
    "        # create linear mapping models for the percentile segments to the learned standard intensity space  \n",
    "        ipf = interp1d(li, self.__model, bounds_error = False)\n",
    "        \n",
    "        # transform the input image intensity values\n",
    "        output = ipf(image)\n",
    "        \n",
    "        # treat image intensity values outside of the cut-off percentiles range separately\n",
    "        llm = IntensityRangeStandardization.linear_model(li[:2], self.__model[:2])\n",
    "        rlm = IntensityRangeStandardization.linear_model(li[-2:], self.__model[-2:])\n",
    "        \n",
    "        output[image < li[0]] = llm(image[image < li[0]])\n",
    "        output[image > li[-1]] = rlm(image[image > li[-1]])\n",
    "        \n",
    "        if not surpress_mapping_check and not self.__check_mapping(li):\n",
    "            raise InformationLossException('Image can not be transformed to the learned standard intensity space without loss of information. Please re-train.')\n",
    "        \n",
    "        return output\n",
    "    \n",
    "    def train_transform(self, images, surpress_mapping_check = False):\n",
    "        r\"\"\"\n",
    "        See also\n",
    "        --------\n",
    "        train, transform\n",
    "        \"\"\"\n",
    "        ret = self.train(images)\n",
    "        outputs = [self.transform(i, surpress_mapping_check) for i in images]\n",
    "        return ret, outputs\n",
    "    \n",
    "    @property\n",
    "    def stdrange(self):\n",
    "        \"\"\"Get the set resp. learned standard intensity range.\"\"\"\n",
    "        return self.__stdrange\n",
    "    \n",
    "    @property\n",
    "    def cutoffp(self):\n",
    "        \"\"\"Get the cut-off percentiles.\"\"\"\n",
    "        return self.__cutoffp\n",
    "    \n",
    "    @property\n",
    "    def landmarkp(self):\n",
    "        \"\"\"Get the landmark percentiles.\"\"\"\n",
    "        return self.__landmarkp\n",
    "    \n",
    "    @property\n",
    "    def model(self):\n",
    "        \"\"\"Get the model (the learned percentile values).\"\"\"\n",
    "        return self.__model\n",
    "    \n",
    "    def __compute_stdrange(self, images):\n",
    "        r\"\"\"\n",
    "        Computes a common standard intensity range over a number of images.\n",
    "        \n",
    "        Depending on the settings of the internal self.__stdrange variable,\n",
    "        either (1) the already fixed values are returned, (2) a complete standard\n",
    "        intensity range is computed from the supplied images, (3) an intensity range\n",
    "        fixed at the lower end or (4) an intensity range fixed at the upper end is\n",
    "        returned.\n",
    "        \n",
    "        Takes into account the maximum length of each percentile segment over all\n",
    "        images, then adds a security margin defined by the highest variability among\n",
    "        all segments over all images.\n",
    "        \n",
    "        Be\n",
    "        \n",
    "        .. math::\n",
    "        \n",
    "            L = (cop_l, lp_1, lp_2, ..., lp_n, cop_u)\n",
    "        \n",
    "        the set formed by the two cut-off percentiles :math:`cop_l` and :math:`cop_u` and the\n",
    "        landmark percentiles :math:`lp_1, ..., lp_n`. The corresponding intensity values of\n",
    "        an image :math:`i\\in I` are then\n",
    "        \n",
    "        .. math::\n",
    "            \n",
    "            V_i = (v_{i,1}, v_{i,2}, ..., v_{i,n+2})\n",
    "        \n",
    "        The distance between each of these intensity values forms a segment along the\n",
    "        images :math:`i` intensity range denoted as\n",
    "        \n",
    "        ..math ::\n",
    "            \n",
    "            S_i = (s_{i,1}, s_{i,2}, ..., s_{i, n+1})\n",
    "        \n",
    "        The common standard intensity range :math:`sir` over the set of images :math:`I` is\n",
    "        then defined as\n",
    "        \n",
    "        ..math ::\n",
    "            sir = \\sum_{l=1}^{n+1}\\max_{i=1}^I s_{i,l} * \\max_{l=1}^{n+1} \\left(\\frac{\\max_{i=1}^I s_{i,l}}{\\min_{i=1}^I s_{i,l}}\\right)\n",
    "        \n",
    "        Parameters\n",
    "        ----------\n",
    "        images : sequence of array_like\n",
    "            A number of images.\n",
    "            \n",
    "        Returns\n",
    "        -------\n",
    "        stdrange : (float, float)\n",
    "            The borders of the computed standard intensity range.\n",
    "        \"\"\"\n",
    "        if not 'auto' in self.__stdrange:\n",
    "            return self.__stdrange\n",
    "        \n",
    "        copl, copu = self.__cutoffp\n",
    "        \n",
    "        # collect cutoff + landmark percentile segments and image mean intensity values \n",
    "        s = []\n",
    "        m = []\n",
    "        for idx, i in enumerate(images):\n",
    "            li = numpy.percentile(i, [copl] + self.__landmarkp + [copu])\n",
    "            \n",
    "            s.append(numpy.asarray(li)[1:] - numpy.asarray(li)[:-1])\n",
    "            m.append(i.mean())\n",
    "            \n",
    "            # treat single intensity accumulation error\n",
    "            if 0 in s[-1]:\n",
    "                raise SingleIntensityAccumulationError('Image no.{} shows an unusual single-intensity accumulation that leads to a situation where two percentile values are equal. This situation is usually caused, when the background has not been removed from the image. Another possibility would be to reduce the number of landmark percentiles landmarkp or to change their distribution.'.format(idx))\n",
    "            \n",
    "        # select the maximum and minimum of each percentile segment over all images\n",
    "        maxs = numpy.max(s, 0)\n",
    "        mins = numpy.min(s, 0)\n",
    "        \n",
    "        # divide them pairwise\n",
    "        divs = numpy.divide(numpy.asarray(maxs, dtype=numpy.float), mins) \n",
    "        \n",
    "        # compute interval range according to generalized theorem 2 of [1]\n",
    "        intv = numpy.sum(maxs) + numpy.max(divs)\n",
    "        \n",
    "        # compute mean intensity value over all images (assuming equal size)\n",
    "        im = numpy.mean(m)\n",
    "        \n",
    "        # return interval with borders according to settings\n",
    "        if 'auto' == self.__stdrange[0] and 'auto' == self.__stdrange[1]:\n",
    "            return im - intv / 2, im + intv / 2\n",
    "        elif 'auto' == self.__stdrange[0]:\n",
    "            return self.__stdrange[1] - intv, self.__stdrange[1]\n",
    "        else:\n",
    "            return self.__stdrange[0], self.__stdrange[0] + intv\n",
    "        \n",
    "    def __check_mapping(self, landmarks):\n",
    "        \"\"\"\n",
    "        Checks whether the image, from which the supplied landmarks were extracted, can\n",
    "        be transformed to the learned standard intensity space without loss of\n",
    "        information.\n",
    "        \"\"\"\n",
    "        sc_udiff = numpy.asarray(self.__sc_umaxs)[1:] - numpy.asarray(self.__sc_umins)[:-1]\n",
    "        l_diff = numpy.asarray(landmarks)[1:] - numpy.asarray(landmarks)[:-1]\n",
    "        return numpy.all(sc_udiff > numpy.asarray(l_diff))\n",
    "        \n",
    "    @staticmethod\n",
    "    def is_sequence(arg):\n",
    "        \"\"\"\n",
    "        Checks via its hidden attribute whether the passed argument is a sequence (but\n",
    "        excluding strings).\n",
    "        \n",
    "        Credits to Steve R. Hastings a.k.a steveha @ http://stackoverflow.com\n",
    "        \"\"\"\n",
    "        return (not hasattr(arg, \"strip\") and\n",
    "            hasattr(arg, \"__getitem__\") or\n",
    "            hasattr(arg, \"__iter__\"))\n",
    "        \n",
    "    @staticmethod\n",
    "    def is_number(arg):\n",
    "        \"\"\"\n",
    "        Checks whether the passed argument is a valid number or not.\n",
    "        \"\"\"\n",
    "        import numbers\n",
    "        return isinstance(arg, numbers.Number)\n",
    "    \n",
    "    @staticmethod\n",
    "    def are_numbers(arg):\n",
    "        \"\"\"\n",
    "        Checks whether all elements in a sequence are valid numbers.\n",
    "        \"\"\"\n",
    "        return numpy.all([IntensityRangeStandardization.is_number(x) for x in arg])\n",
    "    \n",
    "    @staticmethod\n",
    "    def is_in_interval(n, l, r, border = 'included'):\n",
    "        \"\"\"\n",
    "        Checks whether a number is inside the interval l, r.\n",
    "        \"\"\"\n",
    "        if 'included' == border:\n",
    "            return (n >= l) and (n <= r)\n",
    "        elif 'excluded' == border:\n",
    "            return (n > l) and (n < r)\n",
    "        else:\n",
    "            raise ValueError('borders must be either \\'included\\' or \\'excluded\\'')\n",
    "        \n",
    "    @staticmethod\n",
    "    def are_in_interval(s, l, r, border = 'included'):\n",
    "        \"\"\"\n",
    "        Checks whether all number in the sequence s lie inside the interval formed by\n",
    "        l and r.\n",
    "        \"\"\"\n",
    "        return numpy.all([IntensityRangeStandardization.is_in_interval(x, l, r, border) for x in s])\n",
    "    \n",
    "    @staticmethod\n",
    "    def to_float(s):\n",
    "        \"\"\"\n",
    "        Cast a sequences elements to float numbers.\n",
    "        \"\"\"\n",
    "        return [float(x) for x in s]\n",
    "    \n",
    "    @staticmethod\n",
    "    def linear_model(x, y):\n",
    "        \"\"\"\n",
    "        Returns a linear model transformation function fitted on the two supplied points.\n",
    "        y = m*x + b\n",
    "        Note: Assumes that slope > 0, otherwise division through zero might occur.\n",
    "        \"\"\"\n",
    "        x1, x2 = x\n",
    "        y1, y2 = y\n",
    "        m = (y2 - y1) / (x2 - x1)\n",
    "        b = y1 - (m * x1)\n",
    "        return lambda x: m * x + b\n",
    "    \n",
    "class SingleIntensityAccumulationError(Exception):\n",
    "    \"\"\"\n",
    "    Thrown when an image shows an unusual single-intensity peaks which would obstruct\n",
    "    both, training and transformation.\n",
    "    \"\"\"\n",
    "    \n",
    "class InformationLossException(Exception):\n",
    "    \"\"\"\n",
    "    Thrown when a transformation can not be guaranteed to be lossless.\n",
    "    \"\"\"\n",
    "    pass\n",
    "    \n",
    "class UntrainedException(Exception):\n",
    "    \"\"\"\n",
    "    Thrown when a transformation is attempted before training.\n",
    "    \"\"\"\n",
    "    pass"
   ]
  },
  {
   "cell_type": "code",
   "execution_count": null,
   "metadata": {},
   "outputs": [],
   "source": []
  },
  {
   "cell_type": "code",
   "execution_count": null,
   "metadata": {},
   "outputs": [],
   "source": []
  }
 ],
 "metadata": {
  "kernelspec": {
   "display_name": "Python 3",
   "language": "python",
   "name": "python3"
  },
  "language_info": {
   "codemirror_mode": {
    "name": "ipython",
    "version": 3
   },
   "file_extension": ".py",
   "mimetype": "text/x-python",
   "name": "python",
   "nbconvert_exporter": "python",
   "pygments_lexer": "ipython3",
   "version": "3.6.7"
  }
 },
 "nbformat": 4,
 "nbformat_minor": 2
}
