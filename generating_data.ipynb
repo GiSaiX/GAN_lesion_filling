{
 "cells": [
  {
   "cell_type": "code",
   "execution_count": null,
   "metadata": {},
   "outputs": [],
   "source": [
    "%matplotlib inline\n",
    "\n",
    "import numpy as np\n",
    "import SimpleITK as sitk\n",
    "import matplotlib.pyplot as plt\n",
    "from sklearn.preprocessing import *\n",
    "from sklearn import preprocessing\n",
    "from scipy import ndimage\n",
    "import scipy\n",
    "import skimage\n",
    "#from medpy.filter import IntensityRangeStandardization\n",
    "import time, os\n",
    "import shutil, pathlib\n",
    "from functools import partial"
   ]
  },
  {
   "cell_type": "code",
   "execution_count": 2,
   "metadata": {},
   "outputs": [],
   "source": [
    "from pathlib import Path\n",
    "p=Path(\"subjects/\")\n",
    "file_img = list(p.rglob('*pp_t1w.nii.gz'))\n",
    "file_mask = list(p.rglob('*brainmask.nii.gz'))\n",
    "file_all = list(p.rglob('*.gz'))"
   ]
  },
  {
   "cell_type": "code",
   "execution_count": 3,
   "metadata": {},
   "outputs": [],
   "source": [
    "def read_all_images():\n",
    "    brain_list = []\n",
    "    for skull_path, mask_path in list(zip(file_img, file_mask)): #gre skozi vse slike\n",
    "        #make nparrays from images in file\n",
    "        skull_sitk = sitk.ReadImage(str(skull_path), sitk.sitkFloat32)\n",
    "        skull_array = sitk.GetArrayFromImage(skull_sitk)\n",
    "        mask_sitk = sitk.ReadImage(str(mask_path), sitk.sitkFloat32)\n",
    "        mask_array = sitk.GetArrayFromImage(mask_sitk)\n",
    "        brain_array = skull_array * mask_array #mask just the brain\n",
    "        brain_list.append(brain_array) #get a list of brain images\n",
    "    return brain_list"
   ]
  },
  {
   "cell_type": "code",
   "execution_count": 4,
   "metadata": {},
   "outputs": [],
   "source": [
    "def rotMat(alpha, beta, gamma):\n",
    "    def rotation_x(alpha):\n",
    "        cos, sin = np.cos(alpha), np.sin(alpha)\n",
    "        oMatRotx = np.array([[1, 0, 0, 0], [0, cos, -sin, 0], [0, sin, cos, 0], [0, 0, 0, 1]])\n",
    "        return oMatRotx\n",
    "    def rotation_y(alpha):\n",
    "        cos, sin = np.cos(alpha), np.sin(alpha)\n",
    "        oMatRoty = np.array([[cos, 0, sin, 0], [0, 1, 0, 0], [-sin, 0, cos, 0], [0, 0, 0, 1]])\n",
    "        return oMatRoty\n",
    "    def rotation_z(alpha):\n",
    "        cos, sin = np.cos(alpha), np.sin(alpha)\n",
    "        oMatRotz = np.array([[cos, -sin, 0, 0], [sin, cos, 0, 0], [0, 0, 1, 0], [0, 0, 0, 1]])\n",
    "        return oMatRotz\n",
    "    oMatRotx = rotation_x(alpha)\n",
    "    oMatRoty = rotation_y(beta)\n",
    "    oMatRotz = rotation_z(gamma)\n",
    "    return oMatRotx.dot(oMatRoty).dot(oMatRotz)\n"
   ]
  },
  {
   "cell_type": "code",
   "execution_count": 5,
   "metadata": {},
   "outputs": [],
   "source": [
    "def transAffine3D(iScale=(1, 1, 1), iTrans=(0, 0, 0), iRot=(0, 0, 0), iShear=(0, 0, 0, 0, 0, 0)):\n",
    "    oMatScale = np.array([[iScale[0], 0, 0, 0],\n",
    "                        [0, iScale[1], 0, 0],\n",
    "                        [0, 0, iScale[2], 0],\n",
    "                        [0, 0, 0, 1]])\n",
    "    oMatTrans = np.array([[1, 0, 0, iTrans[0]],\n",
    "                            [0, 1, 0, iTrans[1]],\n",
    "                            [0, 0, 1, iTrans[2]],\n",
    "                            [0, 0, 0, 1]])\n",
    "    oMatShear = np.array([[1, iShear[0], iShear[1], 0],\n",
    "                         [iShear[2], 1, iShear[5], 0],\n",
    "                         [iShear[3], iShear[4], 1, 0],\n",
    "                         [0, 0, 0, 1]])\n",
    "    normalized_angles = [degree * np.pi / 180.0 for degree in iRot]\n",
    "    oRot = rotMat(*normalized_angles)\n",
    "    oMat3D = oMatTrans.dot(oMatShear).dot(oRot).dot(oMatScale)\n",
    "    return oMat3D"
   ]
  },
  {
   "cell_type": "code",
   "execution_count": 6,
   "metadata": {},
   "outputs": [],
   "source": [
    "def randomly_transfor_img(img):\n",
    "    scale = np.random.rand(3)/5 + 0.9\n",
    "    trans = (0,0,0)\n",
    "    rot = np.random.rand(3)*10 - 5\n",
    "    shear = np.random.rand(6)/5 - 0.1\n",
    "    matrix = transAffine3D(iScale=scale, iTrans= trans, iRot= rot, iShear=shear)\n",
    "    pad_list = np.pad(img, (15,), 'constant', constant_values=(0,))\n",
    "    return scipy.ndimage.affine_transform(pad_list, matrix.T)"
   ]
  },
  {
   "cell_type": "code",
   "execution_count": 9,
   "metadata": {},
   "outputs": [
    {
     "data": {
      "text/plain": [
       "array([0.98972354, 0.9559916 , 1.00058543])"
      ]
     },
     "execution_count": 9,
     "metadata": {},
     "output_type": "execute_result"
    }
   ],
   "source": [
    "np.random.rand(3)/5 + 0.9"
   ]
  },
  {
   "cell_type": "code",
   "execution_count": 17,
   "metadata": {},
   "outputs": [
    {
     "data": {
      "text/plain": [
       "0.1"
      ]
     },
     "execution_count": 17,
     "metadata": {},
     "output_type": "execute_result"
    }
   ],
   "source": [
    "1/5-0.1"
   ]
  },
  {
   "cell_type": "code",
   "execution_count": 7,
   "metadata": {},
   "outputs": [],
   "source": [
    "from random import choice\n",
    "def transform_and_save(brain_list, number_of_outputs):\n",
    "    shutil.rmtree('working_data', ignore_errors=True)\n",
    "    os.makedirs('working_data')\n",
    "    for i in range(number_of_outputs):\n",
    "        np.save(\"working_data/{}\".format(i), randomly_transfor_img(choice(brain_list)))"
   ]
  },
  {
   "cell_type": "code",
   "execution_count": 8,
   "metadata": {},
   "outputs": [],
   "source": [
    "def main():\n",
    "    brain_list = read_all_images()\n",
    "    transform_and_save(brain_list, 20)\n",
    "    #for i, brain in enumerate(brain_list):\n",
    "    #    np.save('working_data/orig_{}'.format(i), brain)"
   ]
  },
  {
   "cell_type": "code",
   "execution_count": 9,
   "metadata": {},
   "outputs": [],
   "source": [
    "main()"
   ]
  },
  {
   "cell_type": "code",
   "execution_count": null,
   "metadata": {},
   "outputs": [],
   "source": []
  },
  {
   "cell_type": "code",
   "execution_count": null,
   "metadata": {},
   "outputs": [],
   "source": []
  },
  {
   "cell_type": "code",
   "execution_count": null,
   "metadata": {},
   "outputs": [],
   "source": [
    "impo"
   ]
  },
  {
   "cell_type": "code",
   "execution_count": null,
   "metadata": {},
   "outputs": [],
   "source": []
  }
 ],
 "metadata": {
  "kernelspec": {
   "display_name": "Python 3",
   "language": "python",
   "name": "python3"
  },
  "language_info": {
   "codemirror_mode": {
    "name": "ipython",
    "version": 3
   },
   "file_extension": ".py",
   "mimetype": "text/x-python",
   "name": "python",
   "nbconvert_exporter": "python",
   "pygments_lexer": "ipython3",
   "version": "3.6.7"
  }
 },
 "nbformat": 4,
 "nbformat_minor": 2
}
